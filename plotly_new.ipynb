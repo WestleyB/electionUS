{
 "cells": [
  {
   "cell_type": "code",
   "execution_count": 344,
   "metadata": {
    "collapsed": false
   },
   "outputs": [],
   "source": [
    "import pandas as pd\n",
    "import plotly.plotly as py\n",
    "import plotly.graph_objs as go\n",
    "import plotly.tools as tls \n",
    "#py.offline.init_notebook_mode()"
   ]
  },
  {
   "cell_type": "code",
   "execution_count": 345,
   "metadata": {
    "collapsed": false
   },
   "outputs": [
    {
     "name": "stdout",
     "output_type": "stream",
     "text": [
      "phqjy1sdwx\n",
      "j9kvtg1msx\n"
     ]
    }
   ],
   "source": [
    "tls.set_credentials_file(username='maylis', api_key='qsMWXQLERlAOMAHrwGDU')\n",
    "tls.set_credentials_file(stream_ids=['phqjy1sdwx', 'j9kvtg1msx'])\n",
    "stream_tokens = tls.get_credentials_file()['stream_ids']\n",
    "token_1 = stream_tokens[0] \n",
    "token_2 = stream_tokens[1]\n",
    "print(token_1)\n",
    "print(token_2)\n",
    "stream_id1 = dict(token=token_1, maxpoints=60)\n",
    "stream_id2 = dict(token=token_2, maxpoints=60)"
   ]
  },
  {
   "cell_type": "code",
   "execution_count": 359,
   "metadata": {
    "collapsed": true
   },
   "outputs": [],
   "source": [
    "# Valeurs à modifier avec les requêtes\n",
    "\n",
    "total_count_voters = dict() \n",
    "total_count_voters['Republicans'] = 1500000\n",
    "total_count_voters['Democrats'] = 2445000\n",
    "\n",
    "total_count_big_voters = dict() \n",
    "total_count_big_voters['Republicans'] = 45\n",
    "total_count_big_voters['Democrats'] = 22"
   ]
  },
  {
   "cell_type": "code",
   "execution_count": 360,
   "metadata": {
    "collapsed": false
   },
   "outputs": [],
   "source": [
    "trace01 = go.Bar(\n",
    "    x=['Democrats'],\n",
    "    y=[total_count_big_voters['Democrats']],\n",
    "    marker=dict(\n",
    "        color= 'rgb(68,94,150)'),\n",
    "\n",
    "    stream=stream_id2,\n",
    "    showlegend=False\n",
    ")\n",
    "\n",
    "trace02 = go.Bar(\n",
    "    x=['Republicans'],\n",
    "    y=[total_count_big_voters['Republicans']],\n",
    "    marker=dict(\n",
    "        color= 'rgb(186,58,51)'),\n",
    "    stream=stream_id2,\n",
    "    showlegend=False\n",
    ")\n",
    "\n",
    "trace1 = go.Choropleth(\n",
    "    z=['1', '1', '1', '1', '1', '1', '1'],\n",
    "    autocolorscale=False,\n",
    "    colorscale=[[0, 'rgb(255,255,255)'], [1, 'rgb(186,58,51)']],\n",
    "    hoverinfo='text',\n",
    "    locationmode='USA-states',\n",
    "    locations=['AR', 'GA', 'KY', 'MO', 'UT', 'TX', 'WY'],\n",
    "    #name='Republican',\n",
    "    showscale=False,\n",
    "    text=['Arkansas', 'Georgia', 'Kentucky', 'Missouri', 'Utah', 'Texas', 'Wyoming'],\n",
    "    zauto=False,\n",
    "    zmax=1,\n",
    "    zmin=0,\n",
    ")\n",
    "trace2 = go.Choropleth(\n",
    "    z=[1.0, 1.0, 1.0, 1.0, 1.0, 1.0, 1.0, 1.0, 1.0, 1.0, 1.0],\n",
    "    autocolorscale=False,\n",
    "    colorscale=[[0, 'rgb(255,255,255)'], [1, 'rgb(68,94,150)']],\n",
    "    hoverinfo='text',\n",
    "    locationmode='USA-states',\n",
    "    locations=['CA', 'CI', 'DOC', 'IL', 'MD', 'NJ', 'NM', 'NY', 'OR', 'RI', 'VT'],\n",
    "    showscale=False,\n",
    "    text=['California', 'Connecticut', 'District of Columbia', 'Illinois',\n",
    "          'Maryland', 'New Jersey', 'New Mexico', 'New York', 'Oregon',\n",
    "          'Rhode Island', 'Vermont'],\n",
    "\n",
    "    zauto=False,\n",
    "    zmax=1,\n",
    "    zmin=0,\n",
    ")\n",
    "\n",
    "\n",
    "layout2 = go.Layout(\n",
    "    legend = dict(x=-1, y = 1.5),\n",
    "    xaxis=dict(\n",
    "        autorange=True,\n",
    "        showgrid=False,\n",
    "        zeroline=False,\n",
    "        showline=False,\n",
    "    ),\n",
    "    yaxis=dict(\n",
    "        autorange=True,\n",
    "        showgrid=False,\n",
    "        zeroline=False,\n",
    "        showline=False,\n",
    "        autotick=True,\n",
    "        ticks='',\n",
    "        showticklabels=False\n",
    "    ),\n",
    "    geo=dict(\n",
    "        countrycolor='rgb(102, 102, 102)',\n",
    "        countrywidth=0.1,\n",
    "        lakecolor='rgb(255, 255, 255)',\n",
    "        landcolor='rgba(237, 247, 138, 0.28)',\n",
    "        lonaxis=dict(\n",
    "            gridwidth=1.5999999999999999,\n",
    "            range=[-180, -50],\n",
    "            showgrid=False\n",
    "        ),\n",
    "        \n",
    "        scope='usa',\n",
    "        showland=True,\n",
    "        showrivers=False,\n",
    "        showsubunits=True,\n",
    "        subunitcolor='rgb(102, 102, 102)',\n",
    "        subunitwidth=0.5\n",
    "    ),\n",
    "    \n",
    "    font=dict(\n",
    "        family='comic sans ms',\n",
    "        size=24,\n",
    "        color='grey'\n",
    "    ),\n",
    "\n",
    "    barmode='group',\n",
    "    bargap=0.5,\n",
    "\n",
    "    showlegend=False,\n",
    "    title='<b>Les élections américaines... EN LIVE !!! </b>',\n",
    "    width= 1000,\n",
    "    margin = dict(\n",
    "        l=0,\n",
    "        r=0,\n",
    "        b=100,\n",
    "        t=100,\n",
    "        pad=4),\n",
    "    )\n",
    "data2 = go.Data([ trace01, trace02, trace1, trace2])\n",
    "fig2 = go.Figure(data=data2, layout=layout2)\n",
    "\n"
   ]
  },
  {
   "cell_type": "code",
   "execution_count": 361,
   "metadata": {
    "collapsed": false
   },
   "outputs": [
    {
     "name": "stdout",
     "output_type": "stream",
     "text": [
      "High five! You successfuly sent some data to your account on plotly. View your plot in your browser at https://plot.ly/~maylis/0 or inside your plot.ly account where it is named 'pace'\n"
     ]
    },
    {
     "data": {
      "text/html": [
       "<iframe id=\"igraph\" scrolling=\"no\" style=\"border:none;\" seamless=\"seamless\" src=\"https://plot.ly/~maylis/0.embed\" height=\"525px\" width=\"1000px\"></iframe>"
      ],
      "text/plain": [
       "<plotly.tools.PlotlyDisplay object>"
      ]
     },
     "execution_count": 361,
     "metadata": {},
     "output_type": "execute_result"
    }
   ],
   "source": [
    "py.iplot(fig2, filename='pace')\n",
    "#py.iplot(fig,  filename='pace')"
   ]
  },
  {
   "cell_type": "code",
   "execution_count": 362,
   "metadata": {
    "collapsed": false
   },
   "outputs": [],
   "source": [
    "fig = {\n",
    "  \"data\": [\n",
    "    {\n",
    "      \"values\": [total_count_voters['Republicans'], total_count_voters['Democrats']],\n",
    "      \"labels\": [\n",
    "        \"Republicans\",\n",
    "        \"Democrats\",\n",
    "      ],\n",
    "      \"text\":\"Voters\",\n",
    "      \"domain\": {\"x\": [0, .48]},\n",
    "      \"marker\": {'colors': ['rgb(186,58,51)', 'rgb(68,94,150)']},\n",
    "      \"name\": \"Voters\",\n",
    "      \"hoverinfo\":\"label+percent+name\",\n",
    "      \"hole\": .5,\n",
    "      \"type\": \"pie\",\n",
    "    },     \n",
    "    {\n",
    "      \"values\": [total_count_big_voters['Republicans'], total_count_big_voters['Democrats']],\n",
    "      \"labels\": [\n",
    "        \"Republicans\",\n",
    "        \"Democrats\",\n",
    "      ],\n",
    "      \"text\":\"Big Voters\",\n",
    "      \"textposition\":\"inside\",\n",
    "      \"domain\": {\"x\": [.52, 1]},\n",
    "      \"name\": \"Big Voters\",\n",
    "      \"hoverinfo\":\"label+percent+name\",\n",
    "      \"hole\": .5,\n",
    "      \"type\": \"pie\"\n",
    "    }],\n",
    "  \"layout\": {\n",
    "        \"annotations\": [\n",
    "            {\n",
    "                \"font\": {\n",
    "                    \"size\": 20\n",
    "                },\n",
    "                \"showarrow\": False,\n",
    "                \"text\": \"VOTERS\",\n",
    "                \"x\": 0.18,\n",
    "                \"y\": 0.5\n",
    "            },\n",
    "            {\n",
    "                \"font\": {\n",
    "                    \"size\": 20\n",
    "                },\n",
    "                \"showarrow\": False,\n",
    "                \"text\": \"BIG VOTERS\",\n",
    "                \"x\": 0.85,\n",
    "                \"y\": 0.5\n",
    "            }\n",
    "        ],\n",
    "        \"showlegend\":False,        \n",
    "    }\n",
    "}"
   ]
  },
  {
   "cell_type": "code",
   "execution_count": 363,
   "metadata": {
    "collapsed": false
   },
   "outputs": [
    {
     "data": {
      "text/html": [
       "<iframe id=\"igraph\" scrolling=\"no\" style=\"border:none;\" seamless=\"seamless\" src=\"https://plot.ly/~maylis/8.embed\" height=\"525px\" width=\"100%\"></iframe>"
      ],
      "text/plain": [
       "<plotly.tools.PlotlyDisplay object>"
      ]
     },
     "execution_count": 363,
     "metadata": {},
     "output_type": "execute_result"
    }
   ],
   "source": [
    "py.iplot(fig, filename='pace2')"
   ]
  },
  {
   "cell_type": "code",
   "execution_count": null,
   "metadata": {
    "collapsed": true
   },
   "outputs": [],
   "source": []
  }
 ],
 "metadata": {
  "anaconda-cloud": {},
  "kernelspec": {
   "display_name": "Python [conda root]",
   "language": "python",
   "name": "conda-root-py"
  },
  "language_info": {
   "codemirror_mode": {
    "name": "ipython",
    "version": 3
   },
   "file_extension": ".py",
   "mimetype": "text/x-python",
   "name": "python",
   "nbconvert_exporter": "python",
   "pygments_lexer": "ipython3",
   "version": "3.5.2"
  }
 },
 "nbformat": 4,
 "nbformat_minor": 1
}
