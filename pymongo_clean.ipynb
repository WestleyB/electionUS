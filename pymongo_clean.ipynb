{
 "cells": [
  {
   "cell_type": "code",
   "execution_count": 83,
   "metadata": {
    "collapsed": false
   },
   "outputs": [],
   "source": [
    "from pymongo import MongoClient\n",
    "import numpy as np\n",
    "import pandas as pd\n",
    "import pymongo\n",
    "import time\n",
    "import math\n",
    "from pymongo import ReadPreference"
   ]
  },
  {
   "cell_type": "code",
   "execution_count": 84,
   "metadata": {
    "collapsed": false
   },
   "outputs": [
    {
     "data": {
      "text/plain": [
       "'3.3.0'"
      ]
     },
     "execution_count": 84,
     "metadata": {},
     "output_type": "execute_result"
    }
   ],
   "source": [
    "pymongo.version"
   ]
  },
  {
   "cell_type": "code",
   "execution_count": 85,
   "metadata": {
    "collapsed": true
   },
   "outputs": [],
   "source": [
    "client4 = MongoClient(['34.196.21.20:27017', '34.197.19.183:27017', '34.193.159.184:27017']\n",
    "                      , replicaset='rs0'\n",
    "                      , readPreference='secondaryPreferred'\n",
    "                      , localThresholdMS=35)"
   ]
  },
  {
   "cell_type": "code",
   "execution_count": null,
   "metadata": {
    "collapsed": true
   },
   "outputs": [],
   "source": []
  },
  {
   "cell_type": "code",
   "execution_count": 86,
   "metadata": {
    "collapsed": false
   },
   "outputs": [
    {
     "name": "stdout",
     "output_type": "stream",
     "text": [
      "frozenset({('34.197.36.27', 30000), ('34.197.19.183', 27017), ('34.196.21.20', 27017), ('34.193.159.184', 27017)})\n"
     ]
    }
   ],
   "source": [
    " print(client4.nodes)"
   ]
  },
  {
   "cell_type": "code",
   "execution_count": 87,
   "metadata": {
    "collapsed": false
   },
   "outputs": [
    {
     "name": "stdout",
     "output_type": "stream",
     "text": [
      "SecondaryPreferred(tag_sets=None)\n"
     ]
    }
   ],
   "source": [
    "print(client4.read_preference)"
   ]
  },
  {
   "cell_type": "code",
   "execution_count": 88,
   "metadata": {
    "collapsed": false
   },
   "outputs": [
    {
     "data": {
      "text/plain": [
       "['admin', 'election', 'local']"
      ]
     },
     "execution_count": 88,
     "metadata": {},
     "output_type": "execute_result"
    }
   ],
   "source": [
    "client4.database_names() "
   ]
  },
  {
   "cell_type": "code",
   "execution_count": 89,
   "metadata": {
    "collapsed": false
   },
   "outputs": [
    {
     "data": {
      "text/plain": [
       "['grdelec', 'us']"
      ]
     },
     "execution_count": 89,
     "metadata": {},
     "output_type": "execute_result"
    }
   ],
   "source": [
    "db = client4['election']   \n",
    "db.collection_names()"
   ]
  },
  {
   "cell_type": "code",
   "execution_count": 90,
   "metadata": {
    "collapsed": true
   },
   "outputs": [],
   "source": [
    "# nom des colonnes dans la collection us: vote_id, vote_timestamp, state, vote_result"
   ]
  },
  {
   "cell_type": "code",
   "execution_count": 91,
   "metadata": {
    "collapsed": false
   },
   "outputs": [
    {
     "data": {
      "text/plain": [
       "{'_id': ObjectId('587d1b4e2690f54cd18630e8'),\n",
       " 'state': 'Minnesota',\n",
       " 'vote_id': 1,\n",
       " 'vote_result': 'Clinton',\n",
       " 'vote_timestamp': '2016-11-08T20:00'}"
      ]
     },
     "execution_count": 91,
     "metadata": {},
     "output_type": "execute_result"
    }
   ],
   "source": [
    "db.us.find_one()"
   ]
  },
  {
   "cell_type": "markdown",
   "metadata": {},
   "source": [
    "## Functions"
   ]
  },
  {
   "cell_type": "code",
   "execution_count": null,
   "metadata": {
    "collapsed": true
   },
   "outputs": [],
   "source": []
  },
  {
   "cell_type": "code",
   "execution_count": 92,
   "metadata": {
    "collapsed": false
   },
   "outputs": [],
   "source": [
    "# Transformation du resultat d'une requete en Dataframe\n",
    "# >>> KO fonctionne qu'avec PyMongo:version 2.8.0\n",
    "\n",
    "def query_to_dataframe(cursor):\n",
    "    df = pd.DataFrame()\n",
    "    if len(list(cursor)) != 0:\n",
    "        for i, el in enumerate(list(cursor)):\n",
    "            df = df.append(pd.DataFrame(el, index=[i]), ignore_index=True)\n",
    "    return df"
   ]
  },
  {
   "cell_type": "code",
   "execution_count": 93,
   "metadata": {
    "collapsed": true
   },
   "outputs": [],
   "source": [
    "# Adaptation version Nico\n",
    "\n",
    "def query_to_dataframe_2(cursor):\n",
    "    df = pd.DataFrame()\n",
    "    if len(list(cursor)) != 0:\n",
    "        for i, el in enumerate(cursor):\n",
    "            df = df.append(pd.DataFrame(el, index=[i]), ignore_index=True)\n",
    "    return df "
   ]
  },
  {
   "cell_type": "code",
   "execution_count": 94,
   "metadata": {
    "collapsed": false
   },
   "outputs": [],
   "source": [
    "# Requete Laura\n",
    "# OK pour version 3.3.0\n",
    "\n",
    "def query_v21(key_time):\n",
    "    \n",
    "    cursor=db.us.aggregate([\n",
    "                { \"$match\": { \"vote_timestamp\":key_time } },\n",
    "                { \"$group\": { \"_id\": { \"state\": \"$state\", \"vote_result\":\"$vote_result\"}, \"total\":  {\"$sum\":1 }}  },\n",
    "              ])\n",
    "    info=(list(cursor))\n",
    "    ligne=[]\n",
    "    df=pd.DataFrame()\n",
    "    for i in range(len(info)):\n",
    "        ligne=[info[i]['total'] ,info[i]['_id']['state'],info[i]['_id']['vote_result']]\n",
    "        df=pd.concat([df,pd.DataFrame(ligne).T])\n",
    "    df.columns=['nb_vote','state','result']\n",
    "\n",
    "    return df"
   ]
  },
  {
   "cell_type": "code",
   "execution_count": 95,
   "metadata": {
    "collapsed": false
   },
   "outputs": [],
   "source": [
    "# Remake with Try Except\n",
    "\n",
    "def query_v2(key_time):\n",
    "      \n",
    "    try:\n",
    "        cursor=db.us.aggregate([\n",
    "                { \"$match\": { \"vote_timestamp\":key_time } },\n",
    "                { \"$group\": { \"_id\": { \"state\": \"$state\", \"vote_result\":\"$vote_result\"}, \"total\":  {\"$sum\":1 }}  },\n",
    "              ])\n",
    "        pass\n",
    "    except pymongo.errors.AutoReconnect:\n",
    "        print('Disconnecting !!!')\n",
    "        cursor.skip()\n",
    "        time.sleep(5)\n",
    "        \n",
    "    \n",
    "    info=(list(cursor))\n",
    "    ligne=[]\n",
    "    df=pd.DataFrame()\n",
    "    for i in range(len(info)):\n",
    "        ligne=[info[i]['total'] ,info[i]['_id']['state'],info[i]['_id']['vote_result']]\n",
    "        df=pd.concat([df,pd.DataFrame(ligne).T])\n",
    "    if not df.empty:\n",
    "        df.columns=['nb_vote','state','result']\n",
    "\n",
    "    return df"
   ]
  },
  {
   "cell_type": "code",
   "execution_count": 96,
   "metadata": {
    "collapsed": true
   },
   "outputs": [],
   "source": [
    "# Requete nombre de votes par Candidat par Etat \n",
    "\n",
    "def query_by_time(key_time):  \n",
    "    cursor = db.us.aggregate([\n",
    "                 { \"$match\": { \"vote_timestamp\":key_time } },\n",
    "                 { \"$group\": { \"_id\": { \"state\": \"$state\", \"vote_result\": \"$vote_result\" }\n",
    "                              , \"state\": { \"$first\": '$state' }\n",
    "                              , \"vote_result\": { \"$first\": '$vote_result' }\n",
    "                              , \"total\":  {\"$sum\":1 }}  }, \n",
    "               ])\n",
    "    return cursor"
   ]
  },
  {
   "cell_type": "code",
   "execution_count": 97,
   "metadata": {
    "collapsed": true
   },
   "outputs": [],
   "source": [
    "# Requete du nombre de Grands Electeurs par State\n",
    "\n",
    "def query_grands_elec():\n",
    "    df_grd_elec = pd.DataFrame()\n",
    "    cur = db.grdelec.find()\n",
    "    xcur = list(cur)\n",
    "    if len(xcur):\n",
    "        for j, elt in enumerate(xcur):\n",
    "            df_grd_elec = df_grd_elec.append(pd.DataFrame(elt, index=[j]), ignore_index=True)\n",
    "    return df_grd_elec"
   ]
  },
  {
   "cell_type": "code",
   "execution_count": 98,
   "metadata": {
    "collapsed": false
   },
   "outputs": [],
   "source": [
    "# Resultat votes par State\n",
    "\n",
    "def states_result(key_time):\n",
    "    \n",
    "    #cursor = query_by_time(key_time)\n",
    "    #df_state = query_to_dataframe(cursor)\n",
    "    \n",
    "    df_state = query_v2(key_time)\n",
    "    \n",
    "    df_resultat = pd.DataFrame()\n",
    "    df_prop_state = pd.DataFrame()\n",
    "    \n",
    "    if not df_state.empty:\n",
    "        df_state_group = df_state.groupby('state')\n",
    "        for key, elmt in df_state_group:\n",
    "            \n",
    "            elmt['pct'] = elmt['nb_vote'].apply(lambda x: x/elmt.nb_vote.sum())\n",
    "            \n",
    "            df_resultat = df_resultat.append(elmt[elmt.pct == elmt.pct.max()][['state', 'result', 'nb_vote']], ignore_index=True)\n",
    "\n",
    "            df_prop_state = df_prop_state.append(elmt[elmt.state == 'Maine'], ignore_index=True)\n",
    "            df_prop_state = df_prop_state.append(elmt[elmt.state == 'Nebraska'], ignore_index=True)\n",
    "    \n",
    "    return df_resultat, df_prop_state"
   ]
  },
  {
   "cell_type": "code",
   "execution_count": 99,
   "metadata": {
    "collapsed": true
   },
   "outputs": [],
   "source": [
    "# Resultat de l'élection\n",
    "\n",
    "def score_election(df_r, df_grd_elec):\n",
    "    result = pd.merge(df_r, df_grd_elec, on='state')\n",
    "    return result[['result', 'grands_electeurs']].groupby('result').sum()"
   ]
  },
  {
   "cell_type": "code",
   "execution_count": 100,
   "metadata": {
    "collapsed": true
   },
   "outputs": [],
   "source": [
    "# Resultat de l'élection par State\n",
    "\n",
    "def score_state(df_r, df_grd_elec):\n",
    "    return pd.merge(df_r, df_grd_elec, on='state')"
   ]
  },
  {
   "cell_type": "code",
   "execution_count": 101,
   "metadata": {
    "collapsed": false
   },
   "outputs": [],
   "source": [
    "# Maine et le Nebraska\n",
    "\n",
    "def score_election_prop(df_r, df_prop_state, df_grd_elec):\n",
    "    result = pd.merge(df_r, df_grd_elec, on='state')\n",
    "    result[['result', 'grands_electeurs']].groupby('result').sum()"
   ]
  },
  {
   "cell_type": "code",
   "execution_count": null,
   "metadata": {
    "collapsed": true
   },
   "outputs": [],
   "source": []
  },
  {
   "cell_type": "code",
   "execution_count": null,
   "metadata": {
    "collapsed": false
   },
   "outputs": [],
   "source": []
  },
  {
   "cell_type": "markdown",
   "metadata": {},
   "source": [
    "## Fonction de Test"
   ]
  },
  {
   "cell_type": "code",
   "execution_count": null,
   "metadata": {
    "collapsed": false,
    "scrolled": false
   },
   "outputs": [
    {
     "name": "stdout",
     "output_type": "stream",
     "text": [
      "2016-11-08T20:00\n",
      "frozenset({('34.197.36.27', 30000), ('34.197.19.183', 27017), ('34.196.21.20', 27017), ('34.193.159.184', 27017)})\n"
     ]
    },
    {
     "name": "stderr",
     "output_type": "stream",
     "text": [
      "/Users/Wes/anaconda3/lib/python3.5/site-packages/ipykernel/__main__.py:17: SettingWithCopyWarning: \n",
      "A value is trying to be set on a copy of a slice from a DataFrame.\n",
      "Try using .loc[row_indexer,col_indexer] = value instead\n",
      "\n",
      "See the caveats in the documentation: http://pandas.pydata.org/pandas-docs/stable/indexing.html#indexing-view-versus-copy\n"
     ]
    },
    {
     "name": "stdout",
     "output_type": "stream",
     "text": [
      "2016-11-08T20:00 --- R: --- 4.616608142852783 seconds ---\n",
      "2016-11-08T20:01\n",
      "frozenset({('34.197.36.27', 30000), ('34.197.19.183', 27017), ('34.196.21.20', 27017), ('34.193.159.184', 27017)})\n",
      "2016-11-08T20:01 --- R: --- 5.598875999450684 seconds ---\n",
      "2016-11-08T20:02\n",
      "frozenset({('34.197.36.27', 30000), ('34.197.19.183', 27017), ('34.196.21.20', 27017), ('34.193.159.184', 27017)})\n",
      "2016-11-08T20:02 --- R: --- 13.990018129348755 seconds ---\n",
      "2016-11-08T20:03\n",
      "frozenset({('34.197.36.27', 30000), ('34.196.21.20', 27017), ('34.193.159.184', 27017)})\n",
      "2016-11-08T20:03 --- R: --- 1.798548936843872 seconds ---\n",
      "2016-11-08T20:04\n",
      "frozenset({('34.197.36.27', 30000), ('34.196.21.20', 27017), ('34.193.159.184', 27017)})\n",
      "2016-11-08T20:04 --- R: --- 24.07693886756897 seconds ---\n",
      "2016-11-08T20:05\n",
      "frozenset({('34.196.21.20', 27017), ('34.197.36.27', 30000)})\n",
      "2016-11-08T20:05 --- R: --- 2.597018003463745 seconds ---\n",
      "2016-11-08T20:06\n",
      "frozenset({('34.196.21.20', 27017), ('34.197.36.27', 30000)})\n",
      "2016-11-08T20:06 --- R: --- 0.2929348945617676 seconds ---\n",
      "2016-11-08T20:07\n",
      "frozenset({('34.196.21.20', 27017), ('34.197.36.27', 30000)})\n",
      "2016-11-08T20:07 --- R: --- 0.09773492813110352 seconds ---\n",
      "2016-11-08T20:08\n",
      "frozenset({('34.196.21.20', 27017), ('34.197.36.27', 30000)})\n",
      "2016-11-08T20:08 --- R: --- 3.447996139526367 seconds ---\n",
      "2016-11-08T20:09\n",
      "frozenset({('34.196.21.20', 27017), ('34.197.36.27', 30000)})\n"
     ]
    }
   ],
   "source": [
    "start_time = time.time()\n",
    "key_time = '2016-11-08T20:00'\n",
    "df_r = pd.DataFrame()\n",
    "df_prop_state = pd.DataFrame()\n",
    "\n",
    "# Boucle de simulation de l'incrémentation du temps\n",
    "for el in range(60):\n",
    "    \n",
    "        # CRéation du timestamp format string mongodb\n",
    "        key_time = '2016-11-08T20:' + ('00' + str(el))[-2:]\n",
    "        print(key_time)\n",
    "        print(client4.nodes)\n",
    "        \n",
    "        start_time_r = time.time()\n",
    "        # Recupération des votes + stockage dans un Dataframe (df_r)\n",
    "        df_r = df_r.append(states_result(key_time)[0], ignore_index=True)\n",
    "        #print()\n",
    "        print(key_time + \" --- R: --- %s seconds ---\" % (time.time() - start_time_r)) \n",
    "        #print()\n",
    "        \n",
    "        # Recupération des votes pour le calcul des états au scrutin proportionnel + stockage dans un Dataframe\n",
    "        df_prop_state = df_prop_state.append(states_result(key_time)[1], ignore_index=True)\n",
    "        #print(df_r)\n",
    "print()\n",
    "print(df_prop_state)\n",
    "print(\"Total: --- %s seconds ---\" % (time.time() - start_time)) "
   ]
  },
  {
   "cell_type": "code",
   "execution_count": null,
   "metadata": {
    "collapsed": true
   },
   "outputs": [],
   "source": []
  },
  {
   "cell_type": "code",
   "execution_count": 21,
   "metadata": {
    "collapsed": false
   },
   "outputs": [
    {
     "name": "stdout",
     "output_type": "stream",
     "text": [
      "                        _id code  grands_electeurs            state\n",
      "0  58823c757c12b81956bc3d8f   AZ                11          Arizona\n",
      "1  58823c757c12b81956bc3d93   SC                 9  Caroline_du_Sud\n",
      "2  58823c757c12b81956bc3da1   KS                 6           Kansas\n",
      "3  58823c757c12b81956bc3da2   KY                 8         Kentucky\n",
      "4  58823c757c12b81956bc3db0   NY                29         New_York\n",
      "538\n"
     ]
    }
   ],
   "source": [
    "df_grd_elec = query_grands_elec()\n",
    "print(df_grd_elec.head())\n",
    "print(df_grd_elec['grands_electeurs'].sum())"
   ]
  },
  {
   "cell_type": "code",
   "execution_count": 22,
   "metadata": {
    "collapsed": false
   },
   "outputs": [
    {
     "name": "stdout",
     "output_type": "stream",
     "text": [
      "         grands_electeurs\n",
      "result                   \n",
      "Clinton                10\n",
      "Trump                  18\n"
     ]
    }
   ],
   "source": [
    "print(score_election(df_r, df_grd_elec))"
   ]
  },
  {
   "cell_type": "code",
   "execution_count": null,
   "metadata": {
    "collapsed": true
   },
   "outputs": [],
   "source": []
  },
  {
   "cell_type": "code",
   "execution_count": null,
   "metadata": {
    "collapsed": true
   },
   "outputs": [],
   "source": []
  }
 ],
 "metadata": {
  "anaconda-cloud": {},
  "kernelspec": {
   "display_name": "Python [default]",
   "language": "python",
   "name": "python3"
  },
  "language_info": {
   "codemirror_mode": {
    "name": "ipython",
    "version": 3
   },
   "file_extension": ".py",
   "mimetype": "text/x-python",
   "name": "python",
   "nbconvert_exporter": "python",
   "pygments_lexer": "ipython3",
   "version": "3.5.2"
  }
 },
 "nbformat": 4,
 "nbformat_minor": 1
}
