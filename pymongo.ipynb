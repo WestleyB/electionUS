{
 "cells": [
  {
   "cell_type": "code",
   "execution_count": 5,
   "metadata": {
    "collapsed": true
   },
   "outputs": [],
   "source": [
    "from pymongo import MongoClient\n",
    "import json\n",
    "import numpy as np\n",
    "import pandas as pd\n",
    "import pymongo\n",
    "import time\n",
    "# client = MongoClient() #  will connect on the default host and port.\n",
    "# ##client = MongoClient('mongodb://localhost:27017/')\n",
    "# db = client.test_database  # use a database called \"test_database\"\n",
    "# collection1 = db.files   # and inside that DB, a collection called \"files\"\n",
    " \n",
    "### @ IP \n",
    "# 34.196.21.20\n",
    "# port:27017\n",
    "\n",
    "#34.197.19.183:27017"
   ]
  },
  {
   "cell_type": "code",
   "execution_count": 54,
   "metadata": {
    "collapsed": false
   },
   "outputs": [],
   "source": [
    "client4 = MongoClient('34.196.21.20',27017)\n",
    "db = client4.test_database \n",
    "collection = db.files"
   ]
  },
  {
   "cell_type": "code",
   "execution_count": 55,
   "metadata": {
    "collapsed": false
   },
   "outputs": [
    {
     "data": {
      "text/plain": [
       "['admin', 'election', 'local']"
      ]
     },
     "execution_count": 55,
     "metadata": {},
     "output_type": "execute_result"
    }
   ],
   "source": [
    "client4.database_names() "
   ]
  },
  {
   "cell_type": "code",
   "execution_count": 56,
   "metadata": {
    "collapsed": false
   },
   "outputs": [
    {
     "data": {
      "text/plain": [
       "['us']"
      ]
     },
     "execution_count": 56,
     "metadata": {},
     "output_type": "execute_result"
    }
   ],
   "source": [
    "db = client4['election']   \n",
    "db.collection_names()"
   ]
  },
  {
   "cell_type": "code",
   "execution_count": 57,
   "metadata": {
    "collapsed": true
   },
   "outputs": [],
   "source": [
    "# nom des colonnes dans la collection us: vote_id, vote_timestamp, state, vote_result"
   ]
  },
  {
   "cell_type": "code",
   "execution_count": 58,
   "metadata": {
    "collapsed": false
   },
   "outputs": [
    {
     "data": {
      "text/plain": [
       "{'_id': ObjectId('587d1b4e2690f54cd18630e8'),\n",
       " 'state': 'Minnesota',\n",
       " 'vote_id': 1,\n",
       " 'vote_result': 'Clinton',\n",
       " 'vote_timestamp': '2016-11-08T20:00'}"
      ]
     },
     "execution_count": 58,
     "metadata": {},
     "output_type": "execute_result"
    }
   ],
   "source": [
    "db.us.find_one()"
   ]
  },
  {
   "cell_type": "code",
   "execution_count": 47,
   "metadata": {
    "collapsed": false
   },
   "outputs": [],
   "source": [
    "# db.us.find({\"vote_result\": \"Clinton\"}).count() # ca marche mais c'est long"
   ]
  },
  {
   "cell_type": "code",
   "execution_count": 66,
   "metadata": {
    "collapsed": false
   },
   "outputs": [
    {
     "name": "stdout",
     "output_type": "stream",
     "text": [
      "['2016-11-08T20:00', '2016-11-08T20:01', '2016-11-08T20:02', '2016-11-08T20:03', '2016-11-08T20:04', '2016-11-08T20:05', '2016-11-08T20:08', '2016-11-08T20:09', '2016-11-08T20:10', '2016-11-08T20:11', '2016-11-08T20:13', '2016-11-08T20:15', '2016-11-08T20:17', '2016-11-08T20:19', '2016-11-08T20:22', '2016-11-08T20:24', '2016-11-08T20:27', '2016-11-08T20:28', '2016-11-08T20:29', '2016-11-08T20:31', '2016-11-08T20:34', '2016-11-08T20:35', '2016-11-08T20:36', '2016-11-08T20:37', '2016-11-08T20:40', '2016-11-08T20:41', '2016-11-08T20:43', '2016-11-08T20:48', '2016-11-08T20:50', '2016-11-08T20:51', '2016-11-08T20:52', '2016-11-08T20:56', '2016-11-08T20:57', '2016-11-08T20:58', '2016-11-08T20:59']\n"
     ]
    },
    {
     "data": {
      "text/plain": [
       "0.23362135887145996"
      ]
     },
     "execution_count": 66,
     "metadata": {},
     "output_type": "execute_result"
    }
   ],
   "source": [
    "# on le sauvegardera dans une liste\n",
    "start_time = time.time() \n",
    "print(db.us.distinct('vote_timestamp'))\n",
    "(time.time() - start_time)"
   ]
  },
  {
   "cell_type": "code",
   "execution_count": 64,
   "metadata": {
    "collapsed": false
   },
   "outputs": [
    {
     "name": "stdout",
     "output_type": "stream",
     "text": [
      "['Minnesota', 'Alabama', 'Montana', 'Utah', 'Caroline_du_Sud', 'New_York', 'Nouveau_Mexique', 'Californie', 'Colorado', 'Connecticut', 'District_de_Columbia', 'Kentucky', 'Caroline_du_Nord', 'Vermont', 'Dakota_du_Sud', 'Alaska', 'Arkansas', 'Washington', 'Hawai', 'Wisconsin', 'Georgie', 'Ohio', 'Missouri', 'New_Hampshire', 'Virginie', 'Iowa', 'Delaware', 'Arizona', 'Louisiane', 'Massachusetts', 'Texas', 'Dakota_du_Nord', 'Tennessee', 'Wyoming', 'Floride', 'Illinois', 'Nevada', 'Idaho', 'Pennsylvanie', 'Virginie_Occidentale', 'Maryland', 'Mississippi', 'Rhode_Island', 'Michigan', 'Oklahoma', 'Nebraska', 'New_Jersey', 'Indiana', 'Kansas', 'Maine', 'Oregon']\n"
     ]
    },
    {
     "data": {
      "text/plain": [
       "83.54191660881042"
      ]
     },
     "execution_count": 64,
     "metadata": {},
     "output_type": "execute_result"
    }
   ],
   "source": [
    "# on le sauvegardera dans une liste\n",
    "start_time = time.time() \n",
    "print(db.us.distinct('state'))\n",
    "(time.time() - start_time)"
   ]
  },
  {
   "cell_type": "code",
   "execution_count": 141,
   "metadata": {
    "collapsed": false
   },
   "outputs": [],
   "source": [
    "# si vous en avez besoin\n",
    "dico={\n",
    "'2016-11-08T20:00':  ('Minnesota'),\n",
    " '2016-11-08T20:01': ('Alabama','Montana','Utah'),\n",
    " '2016-11-08T20:02': ('New_York'),\n",
    " '2016-11-08T20:03': ('Nouveau_Mexique'),\n",
    " '2016-11-08T20:04': ('Californie','Colorado'),\n",
    " '2016-11-08T20:05': ('Connecticut'),\n",
    " '2016-11-08T20:08': ('District_de_Columbia', 'Kentucky'),\n",
    " '2016-11-08T20:09': ('Caroline_du_Nord', 'Vermont'),\n",
    " '2016-11-08T20:10': ('Dakota_du_Sud'),\n",
    " '2016-11-08T20:11': ('Alaska'),\n",
    " '2016-11-08T20:13': ('Arkansas', 'Washington'),\n",
    " '2016-11-08T20:15': ('Hawai'),\n",
    " '2016-11-08T20:17': ('Wisconsin'),\n",
    " '2016-11-08T20:19': ('Georgie'),\n",
    " '2016-11-08T20:22': ('Ohio'),\n",
    " '2016-11-08T20:24': ('Missouri','New_Hampshire', 'Virginie'),\n",
    " '2016-11-08T20:27': ('Iowa'),\n",
    " '2016-11-08T20:28': ('Delaware'),\n",
    " '2016-11-08T20:29': ('Arizona'),\n",
    " '2016-11-08T20:31': ('Louisiane','Massachusetts', 'Texas'),\n",
    " '2016-11-08T20:34': ('Dakota_du_Nord'),\n",
    " '2016-11-08T20:35': ('Tennessee'),\n",
    " '2016-11-08T20:36': ('Wyoming'),\n",
    " '2016-11-08T20:37': ('Floride', 'Illinois'),\n",
    " '2016-11-08T20:40': ('Nevada'),\n",
    " '2016-11-08T20:41': ('Idaho', 'Pennsylvanie'),\n",
    " '2016-11-08T20:43': ('Virginie_Occidentale'),\n",
    " '2016-11-08T20:48': ('Maryland','Mississippi','Rhode_Island'),\n",
    " '2016-11-08T20:50': ('Michigan'),\n",
    " '2016-11-08T20:51': ('Oklahoma'),\n",
    " '2016-11-08T20:52': ('Nebraska'),\n",
    " '2016-11-08T20:56': ('New_Jersey'),\n",
    " '2016-11-08T20:57': ('Indiana', 'Kansas'),\n",
    " '2016-11-08T20:58': ('Maine'),\n",
    " '2016-11-08T20:59': ('Oregon')}"
   ]
  },
  {
   "cell_type": "code",
   "execution_count": 65,
   "metadata": {
    "collapsed": false
   },
   "outputs": [
    {
     "name": "stdout",
     "output_type": "stream",
     "text": [
      "['Autre', 'Blanc', 'Castle', 'Clinton', 'Johnson', 'McMullin', 'Stein', 'Trump']\n"
     ]
    },
    {
     "data": {
      "text/plain": [
       "0.1343553066253662"
      ]
     },
     "execution_count": 65,
     "metadata": {},
     "output_type": "execute_result"
    }
   ],
   "source": [
    "start_time = time.time() \n",
    "print(db.us.distinct('vote_result'))\n",
    "(time.time() - start_time)"
   ]
  },
  {
   "cell_type": "code",
   "execution_count": 67,
   "metadata": {
    "collapsed": true
   },
   "outputs": [],
   "source": [
    "# listes \n",
    "liste_state = ['Minnesota', 'Alabama', 'Montana', 'Utah', 'Caroline_du_Sud', 'New_York', 'Nouveau_Mexique', 'Californie', 'Colorado', 'Connecticut', 'District_de_Columbia', 'Kentucky', 'Caroline_du_Nord', 'Vermont', 'Dakota_du_Sud', 'Alaska', 'Arkansas', 'Washington', 'Hawai', 'Wisconsin', 'Georgie', 'Ohio', 'Missouri', 'New_Hampshire', 'Virginie', 'Iowa', 'Delaware', 'Arizona', 'Louisiane', 'Massachusetts', 'Texas', 'Dakota_du_Nord', 'Tennessee', 'Wyoming', 'Floride', 'Illinois', 'Nevada', 'Idaho', 'Pennsylvanie', 'Virginie_Occidentale', 'Maryland', 'Mississippi', 'Rhode_Island', 'Michigan', 'Oklahoma', 'Nebraska', 'New_Jersey', 'Indiana', 'Kansas', 'Maine', 'Oregon']\n",
    "liste_candidate = ['Autre', 'Blanc', 'Castle', 'Clinton', 'Johnson', 'McMullin', 'Stein', 'Trump']\n",
    "liste_time = ['2016-11-08T20:00', '2016-11-08T20:01', '2016-11-08T20:02', '2016-11-08T20:03', '2016-11-08T20:04', '2016-11-08T20:05', '2016-11-08T20:08', '2016-11-08T20:09', '2016-11-08T20:10', '2016-11-08T20:11', '2016-11-08T20:13', '2016-11-08T20:15', '2016-11-08T20:17', '2016-11-08T20:19', '2016-11-08T20:22', '2016-11-08T20:24', '2016-11-08T20:27', '2016-11-08T20:28', '2016-11-08T20:29', '2016-11-08T20:31', '2016-11-08T20:34', '2016-11-08T20:35', '2016-11-08T20:36', '2016-11-08T20:37', '2016-11-08T20:40', '2016-11-08T20:41', '2016-11-08T20:43', '2016-11-08T20:48', '2016-11-08T20:50', '2016-11-08T20:51', '2016-11-08T20:52', '2016-11-08T20:56', '2016-11-08T20:57', '2016-11-08T20:58', '2016-11-08T20:59']"
   ]
  },
  {
   "cell_type": "code",
   "execution_count": 50,
   "metadata": {
    "collapsed": false
   },
   "outputs": [
    {
     "name": "stdout",
     "output_type": "stream",
     "text": [
      "9456\n",
      "--- 75.28967142105103 seconds ---\n"
     ]
    }
   ],
   "source": [
    "start_time = time.time() \n",
    "print(db.us.find({\"$and\":[{\"vote_result\":\"Castle\"},{\"state\":\"Minnesota\"}]}).count())\n",
    "print(\"--- %s seconds ---\" % (time.time() - start_time))"
   ]
  },
  {
   "cell_type": "code",
   "execution_count": 68,
   "metadata": {
    "collapsed": false
   },
   "outputs": [
    {
     "name": "stdout",
     "output_type": "stream",
     "text": [
      "9456\n",
      "--- 0.4471898078918457 seconds ---\n"
     ]
    }
   ],
   "source": [
    "start_time = time.time() \n",
    "print(db.us.find({\"$and\":[{\"vote_result\":\"Castle\"},{\"state\":\"Minnesota\"}]}).count())\n",
    "print(\"--- %s seconds ---\" % (time.time() - start_time))"
   ]
  },
  {
   "cell_type": "code",
   "execution_count": 69,
   "metadata": {
    "collapsed": false
   },
   "outputs": [
    {
     "name": "stdout",
     "output_type": "stream",
     "text": [
      "2944813\n"
     ]
    }
   ],
   "source": [
    "print(db.us.find({ \"vote_timestamp\":\"2016-11-08T20:00\"}).count())"
   ]
  },
  {
   "cell_type": "code",
   "execution_count": 70,
   "metadata": {
    "collapsed": false
   },
   "outputs": [
    {
     "name": "stdout",
     "output_type": "stream",
     "text": [
      "1367716\n",
      "--- 0.48428869247436523 seconds ---\n"
     ]
    }
   ],
   "source": [
    "start_time = time.time() \n",
    "print(db.us.find({\"$and\":[{ \"vote_timestamp\":\"2016-11-08T20:00\"},{\"vote_result\":\"Clinton\"},{\"state\":\"Minnesota\"}]}).count())\n",
    "print(\"--- %s seconds ---\" % (time.time() - start_time))\n",
    "      "
   ]
  },
  {
   "cell_type": "code",
   "execution_count": 21,
   "metadata": {
    "collapsed": false
   },
   "outputs": [
    {
     "name": "stdout",
     "output_type": "stream",
     "text": [
      "2016-11-08T20:00 Minnesota Autre\n",
      "41657\n",
      "2016-11-08T20:00 Minnesota Castle\n",
      "9456\n",
      "2016-11-08T20:00 Minnesota Clinton\n",
      "1367716\n",
      "2016-11-08T20:00 Minnesota Johnson\n",
      "112972\n",
      "2016-11-08T20:00 Minnesota McMullin\n",
      "53076\n"
     ]
    }
   ],
   "source": [
    "for key, value in df[:5].iterrows():\n",
    "    print(value[\"vote_timestamp\"],value[\"state\"],value[\"vote_result\"])\n",
    "    print(db.us.find({\"$and\":[{ \"vote_timestamp\":value['vote_timestamp']},{\"vote_result\":value['vote_result']},{\"state\":value['state']}]}).count())"
   ]
  },
  {
   "cell_type": "code",
   "execution_count": 145,
   "metadata": {
    "collapsed": false
   },
   "outputs": [],
   "source": [
    "# un peu trop long\n",
    "# start_time = time.time() \n",
    "# for state in liste_state: \n",
    "#     print(\"----\",state,\"---\")\n",
    "#     for candidate in liste_candidate: \n",
    "#         print(candidate, db.us.find({\"$and\":[{\"vote_result\":candidate},{\"state\":state}]}).count())\n",
    "# print(\"--- %s seconds ---\" % (time.time() - start_time))"
   ]
  },
  {
   "cell_type": "code",
   "execution_count": 72,
   "metadata": {
    "collapsed": false
   },
   "outputs": [
    {
     "name": "stdout",
     "output_type": "stream",
     "text": [
      "1367716\n",
      "--- 0.5815525054931641 seconds ---\n"
     ]
    }
   ],
   "source": [
    "start_time = time.time() \n",
    "print(db.us.find({\"$and\":[{ \"vote_timestamp\":\"2016-11-08T20:00\"},{\"vote_result\":\"Clinton\"},{\"state\":\"Minnesota\"}]}).count())\n",
    "print(\"--- %s seconds ---\" % (time.time() - start_time))\n",
    "     "
   ]
  },
  {
   "cell_type": "code",
   "execution_count": 89,
   "metadata": {
    "collapsed": false
   },
   "outputs": [],
   "source": [
    "cursor=db.us.aggregate([\n",
    "                     { \"$match\": { \"vote_timestamp\":\"2016-11-08T20:04\",\"vote_result\":\"Stein\" } },\n",
    "                     { \"$group\": { \"_id\": \"$state\", \"total\":  {\"$sum\":1 }}  }, \n",
    "                   ])"
   ]
  },
  {
   "cell_type": "code",
   "execution_count": 90,
   "metadata": {
    "collapsed": false
   },
   "outputs": [
    {
     "name": "stdout",
     "output_type": "stream",
     "text": [
      "[{'_id': 'Colorado', 'total': 38437}, {'_id': 'Californie', 'total': 278657}]\n"
     ]
    }
   ],
   "source": [
    "print(list(cursor))"
   ]
  },
  {
   "cell_type": "code",
   "execution_count": 144,
   "metadata": {
    "collapsed": false
   },
   "outputs": [
    {
     "name": "stdout",
     "output_type": "stream",
     "text": [
      "------ 2016-11-08T20:00 -----\n",
      "Autre --- [{'_id': 'Minnesota', 'total': 41657}]\n",
      "Blanc --- []\n",
      "Castle --- [{'_id': 'Minnesota', 'total': 9456}]\n",
      "Clinton --- [{'_id': 'Minnesota', 'total': 1367716}]\n",
      "Johnson --- [{'_id': 'Minnesota', 'total': 112972}]\n",
      "McMullin --- [{'_id': 'Minnesota', 'total': 53076}]\n",
      "Stein --- [{'_id': 'Minnesota', 'total': 36985}]\n",
      "Trump --- [{'_id': 'Minnesota', 'total': 1322951}]\n",
      "------ 2016-11-08T20:01 -----\n",
      "Autre --- [{'_id': 'Utah', 'total': 4755}, {'_id': 'Montana', 'total': 324}, {'_id': 'Alabama', 'total': 21712}]\n",
      "Blanc --- [{'_id': 'Montana', 'total': 19755}, {'_id': 'Alabama', 'total': 14110}]\n",
      "Castle --- [{'_id': 'Utah', 'total': 8032}, {'_id': 'Montana', 'total': 1570}]\n",
      "Clinton --- [{'_id': 'Utah', 'total': 310676}, {'_id': 'Montana', 'total': 177709}, {'_id': 'Alabama', 'total': 729547}]\n",
      "Johnson --- [{'_id': 'Utah', 'total': 39608}, {'_id': 'Montana', 'total': 28036}, {'_id': 'Alabama', 'total': 44467}]\n",
      "McMullin --- [{'_id': 'Utah', 'total': 243690}, {'_id': 'Montana', 'total': 2297}]\n",
      "Stein --- [{'_id': 'Utah', 'total': 9438}, {'_id': 'Montana', 'total': 7970}, {'_id': 'Alabama', 'total': 9391}]\n",
      "Trump --- [{'_id': 'Utah', 'total': 515231}, {'_id': 'Montana', 'total': 279240}, {'_id': 'Alabama', 'total': 1318255}]\n",
      "------ 2016-11-08T20:02 -----\n",
      "Autre --- [{'_id': 'New_York', 'total': 53255}, {'_id': 'Caroline_du_Sud', 'total': 3246}]\n",
      "Blanc --- [{'_id': 'New_York', 'total': 76738}]\n",
      "Castle --- [{'_id': 'New_York', 'total': 893}, {'_id': 'Caroline_du_Sud', 'total': 5765}]\n",
      "Clinton --- [{'_id': 'New_York', 'total': 4547418}, {'_id': 'Caroline_du_Sud', 'total': 855373}]\n",
      "Johnson --- [{'_id': 'New_York', 'total': 176291}, {'_id': 'Caroline_du_Sud', 'total': 49204}]\n",
      "McMullin --- [{'_id': 'New_York', 'total': 10367}, {'_id': 'Caroline_du_Sud', 'total': 21016}]\n",
      "Stein --- [{'_id': 'New_York', 'total': 107756}, {'_id': 'Caroline_du_Sud', 'total': 13034}]\n",
      "Trump --- [{'_id': 'New_York', 'total': 2814346}, {'_id': 'Caroline_du_Sud', 'total': 1155389}]\n",
      "------ 2016-11-08T20:03 -----\n",
      "Autre --- [{'_id': 'Nouveau_Mexique', 'total': 1659}]\n",
      "Blanc --- [{'_id': 'Nouveau_Mexique', 'total': 5725}]\n",
      "Castle --- [{'_id': 'Nouveau_Mexique', 'total': 1514}]\n",
      "Clinton --- [{'_id': 'Nouveau_Mexique', 'total': 385234}]\n",
      "Johnson --- [{'_id': 'Nouveau_Mexique', 'total': 74541}]\n",
      "McMullin --- [{'_id': 'Nouveau_Mexique', 'total': 5825}]\n",
      "Stein --- [{'_id': 'Nouveau_Mexique', 'total': 9879}]\n",
      "Trump --- [{'_id': 'Nouveau_Mexique', 'total': 319666}]\n",
      "------ 2016-11-08T20:04 -----\n",
      "Autre --- [{'_id': 'Colorado', 'total': 15692}, {'_id': 'Californie', 'total': 147244}]\n",
      "Blanc --- [{'_id': 'Colorado', 'total': 78996}, {'_id': 'Californie', 'total': 428915}]\n",
      "Castle --- [{'_id': 'Colorado', 'total': 11699}]\n",
      "Clinton --- [{'_id': 'Colorado', 'total': 1338870}, {'_id': 'Californie', 'total': 8753788}]\n",
      "Johnson --- [{'_id': 'Colorado', 'total': 144121}, {'_id': 'Californie', 'total': 478499}]\n",
      "McMullin --- [{'_id': 'Colorado', 'total': 28917}, {'_id': 'Californie', 'total': 39586}]\n",
      "Stein --- [{'_id': 'Colorado', 'total': 38437}, {'_id': 'Californie', 'total': 278657}]\n",
      "Trump --- [{'_id': 'Colorado', 'total': 1202484}, {'_id': 'Californie', 'total': 4483810}]\n",
      "------ 2016-11-08T20:05 -----\n",
      "Autre --- [{'_id': 'Connecticut', 'total': 361}]\n",
      "Blanc --- [{'_id': 'Connecticut', 'total': 31014}]\n",
      "Castle --- [{'_id': 'Connecticut', 'total': 147}]\n",
      "Clinton --- [{'_id': 'Connecticut', 'total': 897572}]\n",
      "Johnson --- [{'_id': 'Connecticut', 'total': 48676}]\n",
      "McMullin --- [{'_id': 'Connecticut', 'total': 2108}]\n",
      "Stein --- [{'_id': 'Connecticut', 'total': 22841}]\n",
      "Trump --- [{'_id': 'Connecticut', 'total': 673215}]\n",
      "------ 2016-11-08T20:08 -----\n",
      "Autre --- [{'_id': 'Kentucky', 'total': 1441}, {'_id': 'District_de_Columbia', 'total': 6551}]\n",
      "Blanc --- [{'_id': 'Kentucky', 'total': 25105}, {'_id': 'District_de_Columbia', 'total': 61307}]\n",
      "Castle --- [{'_id': 'Kentucky', 'total': 438}]\n",
      "Clinton --- [{'_id': 'Kentucky', 'total': 628854}, {'_id': 'District_de_Columbia', 'total': 282830}]\n",
      "Johnson --- [{'_id': 'Kentucky', 'total': 53752}, {'_id': 'District_de_Columbia', 'total': 4906}]\n",
      "McMullin --- [{'_id': 'Kentucky', 'total': 22780}]\n",
      "Stein --- [{'_id': 'Kentucky', 'total': 13913}, {'_id': 'District_de_Columbia', 'total': 4258}]\n",
      "Trump --- [{'_id': 'Kentucky', 'total': 1202971}, {'_id': 'District_de_Columbia', 'total': 12723}]\n",
      "------ 2016-11-08T20:09 -----\n",
      "Autre --- [{'_id': 'Vermont', 'total': 23595}, {'_id': 'Caroline_du_Nord', 'total': 47386}]\n",
      "Blanc --- [{'_id': 'Caroline_du_Nord', 'total': 28076}]\n",
      "Castle --- [{'_id': 'Vermont', 'total': 63}]\n",
      "Clinton --- [{'_id': 'Vermont', 'total': 178573}, {'_id': 'Caroline_du_Nord', 'total': 2189316}]\n",
      "Johnson --- [{'_id': 'Vermont', 'total': 10078}, {'_id': 'Caroline_du_Nord', 'total': 130126}]\n",
      "McMullin --- [{'_id': 'Vermont', 'total': 631}]\n",
      "Stein --- [{'_id': 'Vermont', 'total': 6758}, {'_id': 'Caroline_du_Nord', 'total': 12105}]\n",
      "Trump --- [{'_id': 'Vermont', 'total': 95369}, {'_id': 'Caroline_du_Nord', 'total': 2362631}]\n",
      "------ 2016-11-08T20:10 -----\n",
      "Autre --- []\n",
      "Blanc --- []\n",
      "Castle --- [{'_id': 'Dakota_du_Sud', 'total': 4064}]\n",
      "Clinton --- [{'_id': 'Dakota_du_Sud', 'total': 117458}]\n",
      "Johnson --- [{'_id': 'Dakota_du_Sud', 'total': 20850}]\n",
      "McMullin --- []\n",
      "Stein --- []\n",
      "Trump --- [{'_id': 'Dakota_du_Sud', 'total': 227721}]\n",
      "------ 2016-11-08T20:11 -----\n",
      "Autre --- [{'_id': 'Alaska', 'total': 10441}]\n",
      "Blanc --- [{'_id': 'Alaska', 'total': 2666}]\n",
      "Castle --- [{'_id': 'Alaska', 'total': 3866}]\n",
      "Clinton --- [{'_id': 'Alaska', 'total': 116454}]\n",
      "Johnson --- [{'_id': 'Alaska', 'total': 18725}]\n",
      "McMullin --- []\n",
      "Stein --- [{'_id': 'Alaska', 'total': 5735}]\n",
      "Trump --- [{'_id': 'Alaska', 'total': 163387}]\n",
      "------ 2016-11-08T20:13 -----\n",
      "Autre --- [{'_id': 'Washington', 'total': 110246}, {'_id': 'Arkansas', 'total': 8099}]\n",
      "Blanc --- [{'_id': 'Washington', 'total': 51770}, {'_id': 'Arkansas', 'total': 7137}]\n",
      "Castle --- [{'_id': 'Washington', 'total': 17623}, {'_id': 'Arkansas', 'total': 4613}]\n",
      "Clinton --- [{'_id': 'Washington', 'total': 1742718}, {'_id': 'Arkansas', 'total': 380494}]\n",
      "Johnson --- [{'_id': 'Washington', 'total': 160879}, {'_id': 'Arkansas', 'total': 29829}]\n",
      "McMullin --- [{'_id': 'Arkansas', 'total': 13255}]\n",
      "Stein --- [{'_id': 'Washington', 'total': 58417}, {'_id': 'Arkansas', 'total': 9473}]\n",
      "Trump --- [{'_id': 'Washington', 'total': 1221747}, {'_id': 'Arkansas', 'total': 684872}]\n",
      "------ 2016-11-08T20:15 -----\n",
      "Autre --- []\n",
      "Blanc --- [{'_id': 'Hawai', 'total': 8727}]\n",
      "Castle --- [{'_id': 'Hawai', 'total': 4508}]\n",
      "Clinton --- [{'_id': 'Hawai', 'total': 266891}]\n",
      "Johnson --- [{'_id': 'Hawai', 'total': 159454}]\n",
      "McMullin --- []\n",
      "Stein --- [{'_id': 'Hawai', 'total': 12737}]\n",
      "Trump --- [{'_id': 'Hawai', 'total': 128847}]\n",
      "------ 2016-11-08T20:17 -----\n",
      "Autre --- [{'_id': 'Wisconsin', 'total': 26567}]\n",
      "Blanc --- []\n",
      "Castle --- [{'_id': 'Wisconsin', 'total': 12162}]\n",
      "Clinton --- [{'_id': 'Wisconsin', 'total': 1382536}]\n",
      "Johnson --- [{'_id': 'Wisconsin', 'total': 106674}]\n",
      "McMullin --- [{'_id': 'Wisconsin', 'total': 11855}]\n",
      "Stein --- [{'_id': 'Wisconsin', 'total': 31072}]\n",
      "Trump --- [{'_id': 'Wisconsin', 'total': 1405284}]\n",
      "------ 2016-11-08T20:19 -----\n",
      "Autre --- []\n",
      "Blanc --- [{'_id': 'Georgie', 'total': 73032}]\n",
      "Castle --- []\n",
      "Clinton --- [{'_id': 'Georgie', 'total': 1877963}]\n",
      "Johnson --- [{'_id': 'Georgie', 'total': 125306}]\n",
      "McMullin --- []\n",
      "Stein --- []\n",
      "Trump --- [{'_id': 'Georgie', 'total': 2089104}]\n",
      "------ 2016-11-08T20:22 -----\n",
      "Autre --- [{'_id': 'Ohio', 'total': 66504}]\n",
      "Blanc --- [{'_id': 'Ohio', 'total': 70738}]\n",
      "Castle --- [{'_id': 'Ohio', 'total': 1887}]\n",
      "Clinton --- [{'_id': 'Ohio', 'total': 2394164}]\n",
      "Johnson --- [{'_id': 'Ohio', 'total': 174498}]\n",
      "McMullin --- [{'_id': 'Ohio', 'total': 12574}]\n",
      "Stein --- [{'_id': 'Ohio', 'total': 46271}]\n",
      "Trump --- [{'_id': 'Ohio', 'total': 2841005}]\n",
      "------ 2016-11-08T20:24 -----\n",
      "Autre --- [{'_id': 'New_Hampshire', 'total': 12706}, {'_id': 'Virginie', 'total': 31870}, {'_id': 'Missouri', 'total': 82}]\n",
      "Blanc --- []\n",
      "Castle --- [{'_id': 'Missouri', 'total': 13092}]\n",
      "Clinton --- [{'_id': 'New_Hampshire', 'total': 348526}, {'_id': 'Virginie', 'total': 1981473}, {'_id': 'Missouri', 'total': 1071068}]\n",
      "Johnson --- [{'_id': 'New_Hampshire', 'total': 30694}, {'_id': 'Virginie', 'total': 118274}, {'_id': 'Missouri', 'total': 97359}]\n",
      "McMullin --- [{'_id': 'Virginie', 'total': 54054}, {'_id': 'Missouri', 'total': 7071}]\n",
      "Stein --- [{'_id': 'New_Hampshire', 'total': 6465}, {'_id': 'Virginie', 'total': 27638}, {'_id': 'Missouri', 'total': 25419}]\n",
      "Trump --- [{'_id': 'New_Hampshire', 'total': 345790}, {'_id': 'Virginie', 'total': 1769443}, {'_id': 'Missouri', 'total': 1594511}]\n",
      "------ 2016-11-08T20:27 -----\n",
      "Autre --- [{'_id': 'Iowa', 'total': 23013}]\n",
      "Blanc --- []\n",
      "Castle --- [{'_id': 'Iowa', 'total': 5335}]\n",
      "Clinton --- [{'_id': 'Iowa', 'total': 653669}]\n",
      "Johnson --- [{'_id': 'Iowa', 'total': 59187}]\n",
      "McMullin --- [{'_id': 'Iowa', 'total': 12366}]\n",
      "Stein --- [{'_id': 'Iowa', 'total': 11479}]\n",
      "Trump --- [{'_id': 'Iowa', 'total': 800983}]\n",
      "------ 2016-11-08T20:28 -----\n",
      "Autre --- []\n",
      "Blanc --- []\n",
      "Castle --- []\n",
      "Clinton --- [{'_id': 'Delaware', 'total': 265603}]\n",
      "Johnson --- [{'_id': 'Delaware', 'total': 14757}]\n",
      "McMullin --- []\n",
      "Stein --- [{'_id': 'Delaware', 'total': 6103}]\n",
      "Trump --- [{'_id': 'Delaware', 'total': 185127}]\n",
      "------ 2016-11-08T20:29 -----\n",
      "Autre --- [{'_id': 'Arizona', 'total': 418}]\n",
      "Blanc --- [{'_id': 'Arizona', 'total': 88332}]\n",
      "Castle --- [{'_id': 'Arizona', 'total': 1058}]\n",
      "Clinton --- [{'_id': 'Arizona', 'total': 1161167}]\n",
      "Johnson --- [{'_id': 'Arizona', 'total': 106327}]\n",
      "McMullin --- [{'_id': 'Arizona', 'total': 17499}]\n",
      "Stein --- [{'_id': 'Arizona', 'total': 34345}]\n",
      "Trump --- [{'_id': 'Arizona', 'total': 1252401}]\n",
      "------ 2016-11-08T20:31 -----\n",
      "Autre --- [{'_id': 'Texas', 'total': 4634}, {'_id': 'Massachusetts', 'total': 50559}, {'_id': 'Louisiane', 'total': 6555}]\n",
      "Blanc --- [{'_id': 'Texas', 'total': 865492}]\n",
      "Castle --- [{'_id': 'Texas', 'total': 4261}, {'_id': 'Louisiane', 'total': 3129}]\n",
      "Clinton --- [{'_id': 'Texas', 'total': 3877868}, {'_id': 'Massachusetts', 'total': 1995196}, {'_id': 'Louisiane', 'total': 780154}]\n",
      "Johnson --- [{'_id': 'Texas', 'total': 283492}, {'_id': 'Massachusetts', 'total': 138018}, {'_id': 'Louisiane', 'total': 37978}]\n",
      "McMullin --- [{'_id': 'Texas', 'total': 42366}, {'_id': 'Massachusetts', 'total': 2719}, {'_id': 'Louisiane', 'total': 8547}]\n",
      "Stein --- [{'_id': 'Texas', 'total': 71558}, {'_id': 'Massachusetts', 'total': 47661}, {'_id': 'Louisiane', 'total': 14031}]\n",
      "Trump --- [{'_id': 'Texas', 'total': 4685047}, {'_id': 'Massachusetts', 'total': 1090893}, {'_id': 'Louisiane', 'total': 1178638}]\n",
      "------ 2016-11-08T20:34 -----\n",
      "Autre --- [{'_id': 'Dakota_du_Nord', 'total': 6761}]\n",
      "Blanc --- []\n",
      "Castle --- [{'_id': 'Dakota_du_Nord', 'total': 1833}]\n",
      "Clinton --- [{'_id': 'Dakota_du_Nord', 'total': 93758}]\n",
      "Johnson --- [{'_id': 'Dakota_du_Nord', 'total': 21434}]\n",
      "McMullin --- []\n",
      "Stein --- [{'_id': 'Dakota_du_Nord', 'total': 3780}]\n",
      "Trump --- [{'_id': 'Dakota_du_Nord', 'total': 216794}]\n",
      "------ 2016-11-08T20:35 -----\n",
      "Autre --- [{'_id': 'Tennessee', 'total': 14442}]\n",
      "Blanc --- []\n",
      "Castle --- [{'_id': 'Tennessee', 'total': 1584}]\n",
      "Clinton --- [{'_id': 'Tennessee', 'total': 870695}]\n",
      "Johnson --- [{'_id': 'Tennessee', 'total': 70397}]\n",
      "McMullin --- [{'_id': 'Tennessee', 'total': 11991}]\n",
      "Stein --- [{'_id': 'Tennessee', 'total': 15993}]\n",
      "Trump --- [{'_id': 'Tennessee', 'total': 1522925}]\n",
      "------ 2016-11-08T20:36 -----\n",
      "Autre --- [{'_id': 'Wyoming', 'total': 7613}]\n",
      "Blanc --- []\n",
      "Castle --- [{'_id': 'Wyoming', 'total': 2042}]\n",
      "Clinton --- [{'_id': 'Wyoming', 'total': 55973}]\n",
      "Johnson --- [{'_id': 'Wyoming', 'total': 13287}]\n",
      "McMullin --- []\n",
      "Stein --- [{'_id': 'Wyoming', 'total': 2515}]\n",
      "Trump --- [{'_id': 'Wyoming', 'total': 174419}]\n",
      "------ 2016-11-08T20:37 -----\n",
      "Autre --- [{'_id': 'Illinois', 'total': 489}, {'_id': 'Floride', 'total': 9261}]\n",
      "Blanc --- []\n",
      "Castle --- [{'_id': 'Illinois', 'total': 1138}, {'_id': 'Floride', 'total': 16475}]\n",
      "Clinton --- [{'_id': 'Illinois', 'total': 3090729}, {'_id': 'Floride', 'total': 4504975}]\n",
      "Johnson --- [{'_id': 'Illinois', 'total': 209596}, {'_id': 'Floride', 'total': 207043}]\n",
      "McMullin --- [{'_id': 'Illinois', 'total': 11655}]\n",
      "Stein --- [{'_id': 'Illinois', 'total': 76802}, {'_id': 'Floride', 'total': 64399}]\n",
      "Trump --- [{'_id': 'Illinois', 'total': 2146015}, {'_id': 'Floride', 'total': 4617886}]\n",
      "------ 2016-11-08T20:40 -----\n",
      "Autre --- [{'_id': 'Nevada', 'total': 31415}]\n",
      "Blanc --- []\n",
      "Castle --- [{'_id': 'Nevada', 'total': 5268}]\n",
      "Clinton --- [{'_id': 'Nevada', 'total': 539260}]\n",
      "Johnson --- [{'_id': 'Nevada', 'total': 37384}]\n",
      "McMullin --- []\n",
      "Stein --- []\n",
      "Trump --- [{'_id': 'Nevada', 'total': 512058}]\n",
      "------ 2016-11-08T20:41 -----\n",
      "Autre --- [{'_id': 'Idaho', 'total': 3729}]\n",
      "Blanc --- [{'_id': 'Idaho', 'total': 20622}]\n",
      "Castle --- [{'_id': 'Pennsylvanie', 'total': 21572}, {'_id': 'Idaho', 'total': 4403}]\n",
      "Clinton --- [{'_id': 'Pennsylvanie', 'total': 2926441}, {'_id': 'Idaho', 'total': 189765}]\n",
      "Johnson --- [{'_id': 'Pennsylvanie', 'total': 146715}, {'_id': 'Idaho', 'total': 28331}]\n",
      "McMullin --- [{'_id': 'Idaho', 'total': 46476}]\n",
      "Stein --- [{'_id': 'Pennsylvanie', 'total': 49941}, {'_id': 'Idaho', 'total': 8496}]\n",
      "Trump --- [{'_id': 'Pennsylvanie', 'total': 2970733}, {'_id': 'Idaho', 'total': 409055}]\n",
      "------ 2016-11-08T20:43 -----\n",
      "Autre --- []\n",
      "Blanc --- []\n",
      "Castle --- [{'_id': 'Virginie_Occidentale', 'total': 3807}]\n",
      "Clinton --- [{'_id': 'Virginie_Occidentale', 'total': 188794}]\n",
      "Johnson --- [{'_id': 'Virginie_Occidentale', 'total': 23004}]\n",
      "McMullin --- []\n",
      "Stein --- [{'_id': 'Virginie_Occidentale', 'total': 8075}]\n",
      "Trump --- [{'_id': 'Virginie_Occidentale', 'total': 489371}]\n",
      "------ 2016-11-08T20:48 -----\n",
      "Autre --- [{'_id': 'Rhode_Island', 'total': 10110}, {'_id': 'Mississippi', 'total': 3090}, {'_id': 'Maryland', 'total': 34603}]\n",
      "Blanc --- []\n",
      "Castle --- [{'_id': 'Mississippi', 'total': 3987}, {'_id': 'Maryland', 'total': 566}]\n",
      "Clinton --- [{'_id': 'Rhode_Island', 'total': 252525}, {'_id': 'Mississippi', 'total': 485131}, {'_id': 'Maryland', 'total': 1677928}]\n",
      "Johnson --- [{'_id': 'Rhode_Island', 'total': 14746}, {'_id': 'Mississippi', 'total': 14435}, {'_id': 'Maryland', 'total': 79605}]\n",
      "McMullin --- [{'_id': 'Maryland', 'total': 9630}]\n",
      "Stein --- [{'_id': 'Rhode_Island', 'total': 6220}, {'_id': 'Mississippi', 'total': 3731}, {'_id': 'Maryland', 'total': 35945}]\n",
      "Trump --- [{'_id': 'Rhode_Island', 'total': 180543}, {'_id': 'Mississippi', 'total': 700714}, {'_id': 'Maryland', 'total': 943169}]\n",
      "------ 2016-11-08T20:50 -----\n",
      "Autre --- [{'_id': 'Michigan', 'total': 2948}]\n",
      "Blanc --- []\n",
      "Castle --- [{'_id': 'Michigan', 'total': 16139}]\n",
      "Clinton --- [{'_id': 'Michigan', 'total': 2268839}]\n",
      "Johnson --- [{'_id': 'Michigan', 'total': 172136}]\n",
      "McMullin --- [{'_id': 'Michigan', 'total': 8177}]\n",
      "Stein --- [{'_id': 'Michigan', 'total': 51463}]\n",
      "Trump --- [{'_id': 'Michigan', 'total': 2279543}]\n",
      "------ 2016-11-08T20:51 -----\n",
      "Autre --- []\n",
      "Blanc --- []\n",
      "Castle --- []\n",
      "Clinton --- [{'_id': 'Oklahoma', 'total': 420375}]\n",
      "Johnson --- [{'_id': 'Oklahoma', 'total': 83481}]\n",
      "McMullin --- []\n",
      "Stein --- []\n",
      "Trump --- [{'_id': 'Oklahoma', 'total': 949136}]\n",
      "------ 2016-11-08T20:52 -----\n",
      "Autre --- [{'_id': 'Nebraska', 'total': 16051}]\n",
      "Blanc --- [{'_id': 'Nebraska', 'total': 16346}]\n",
      "Castle --- []\n",
      "Clinton --- [{'_id': 'Nebraska', 'total': 284494}]\n",
      "Johnson --- [{'_id': 'Nebraska', 'total': 38946}]\n",
      "McMullin --- []\n",
      "Stein --- [{'_id': 'Nebraska', 'total': 8775}]\n",
      "Trump --- [{'_id': 'Nebraska', 'total': 495961}]\n",
      "------ 2016-11-08T20:56 -----\n",
      "Autre --- [{'_id': 'New_Jersey', 'total': 7425}]\n",
      "Blanc --- [{'_id': 'New_Jersey', 'total': 83257}]\n",
      "Castle --- [{'_id': 'New_Jersey', 'total': 6161}]\n",
      "Clinton --- [{'_id': 'New_Jersey', 'total': 2148278}]\n",
      "Johnson --- [{'_id': 'New_Jersey', 'total': 72477}]\n",
      "McMullin --- []\n",
      "Stein --- [{'_id': 'New_Jersey', 'total': 37772}]\n",
      "Trump --- [{'_id': 'New_Jersey', 'total': 1601933}]\n",
      "------ 2016-11-08T20:57 -----\n",
      "Autre --- [{'_id': 'Kansas', 'total': 300}, {'_id': 'Indiana', 'total': 775}]\n",
      "Blanc --- []\n",
      "Castle --- [{'_id': 'Kansas', 'total': 646}, {'_id': 'Indiana', 'total': 1937}]\n",
      "Clinton --- [{'_id': 'Kansas', 'total': 427005}, {'_id': 'Indiana', 'total': 1033126}]\n",
      "Johnson --- [{'_id': 'Kansas', 'total': 55406}, {'_id': 'Indiana', 'total': 133996}]\n",
      "McMullin --- [{'_id': 'Kansas', 'total': 6520}]\n",
      "Stein --- [{'_id': 'Kansas', 'total': 23506}, {'_id': 'Indiana', 'total': 7841}]\n",
      "Trump --- [{'_id': 'Kansas', 'total': 671018}, {'_id': 'Indiana', 'total': 1557286}]\n",
      "------ 2016-11-08T20:58 -----\n",
      "Autre --- [{'_id': 'Maine', 'total': 22}]\n",
      "Blanc --- []\n",
      "Castle --- [{'_id': 'Maine', 'total': 332}]\n",
      "Clinton --- [{'_id': 'Maine', 'total': 357335}]\n",
      "Johnson --- [{'_id': 'Maine', 'total': 38101}]\n",
      "McMullin --- [{'_id': 'Maine', 'total': 1887}]\n",
      "Stein --- [{'_id': 'Maine', 'total': 14251}]\n",
      "Trump --- [{'_id': 'Maine', 'total': 335593}]\n",
      "------ 2016-11-08T20:59 -----\n",
      "Autre --- [{'_id': 'Oregon', 'total': 72594}]\n",
      "Blanc --- []\n",
      "Castle --- []\n",
      "Clinton --- [{'_id': 'Oregon', 'total': 1002106}]\n",
      "Johnson --- [{'_id': 'Oregon', 'total': 94231}]\n",
      "McMullin --- []\n",
      "Stein --- [{'_id': 'Oregon', 'total': 50002}]\n",
      "Trump --- [{'_id': 'Oregon', 'total': 782404}]\n",
      "--- 195.50363278388977 seconds ---\n"
     ]
    }
   ],
   "source": [
    "#rq: il faut sauvegarder la valeur d'un curseur ds une variable\n",
    "start_time = time.time() \n",
    "for key in liste_time:  \n",
    "    print(\"------\",key,\"-----\")\n",
    "    for i in liste_candidate:\n",
    "       \n",
    "        cursor=db.us.aggregate([\n",
    "                     { \"$match\": { \"vote_timestamp\":key,\"vote_result\":i } },\n",
    "                     { \"$group\": { \"_id\": \"$state\", \"total\":  {\"$sum\":1 }}  }, \n",
    "                   ])\n",
    "        info=(list(cursor))\n",
    "        print(i,\"---\",info)\n",
    "\n",
    "print(\"--- %s seconds ---\" % (time.time() - start_time))"
   ]
  },
  {
   "cell_type": "code",
   "execution_count": null,
   "metadata": {
    "collapsed": true
   },
   "outputs": [],
   "source": []
  }
 ],
 "metadata": {
  "anaconda-cloud": {},
  "kernelspec": {
   "display_name": "Python [conda root]",
   "language": "python",
   "name": "conda-root-py"
  },
  "language_info": {
   "codemirror_mode": {
    "name": "ipython",
    "version": 3
   },
   "file_extension": ".py",
   "mimetype": "text/x-python",
   "name": "python",
   "nbconvert_exporter": "python",
   "pygments_lexer": "ipython3",
   "version": "3.5.2"
  }
 },
 "nbformat": 4,
 "nbformat_minor": 1
}
