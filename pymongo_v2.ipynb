{
 "cells": [
  {
   "cell_type": "code",
   "execution_count": 134,
   "metadata": {
    "collapsed": false
   },
   "outputs": [],
   "source": [
    "from pymongo import MongoClient\n",
    "import numpy as np\n",
    "import pandas as pd\n",
    "import pymongo\n",
    "import time\n",
    "import math\n",
    "from pymongo import ReadPreference\n",
    " \n",
    "### @ IP \n",
    "# 34.196.21.20\n",
    "# port:27017\n",
    "\n",
    "#34.197.19.183:27017"
   ]
  },
  {
   "cell_type": "code",
   "execution_count": 135,
   "metadata": {
    "collapsed": false
   },
   "outputs": [
    {
     "data": {
      "text/plain": [
       "'3.3.0'"
      ]
     },
     "execution_count": 135,
     "metadata": {},
     "output_type": "execute_result"
    }
   ],
   "source": [
    "pymongo.version"
   ]
  },
  {
   "cell_type": "code",
   "execution_count": 136,
   "metadata": {
    "collapsed": false
   },
   "outputs": [],
   "source": [
    "#config = {'_id': 'rs0', 'members': [\n",
    "#        {'_id': 0, 'host': '34.196.21.20:27017'},\n",
    "#        {'_id': 1, 'host': '34.197.19.183:27018'},\n",
    "#        {'_id': 2, 'host': '34.193.159.184:27019'}]}\n",
    "#client4.admin.command(\"replSetInitiate\", config)\n"
   ]
  },
  {
   "cell_type": "code",
   "execution_count": 144,
   "metadata": {
    "collapsed": true
   },
   "outputs": [],
   "source": [
    "client4 = MongoClient('34.196.21.20',27017\n",
    "                      , replicaset='rs0'\n",
    "                      , readPreference='secondaryPreferred'\n",
    "                      , localThresholdMS=35)"
   ]
  },
  {
   "cell_type": "code",
   "execution_count": 145,
   "metadata": {
    "collapsed": false
   },
   "outputs": [
    {
     "name": "stdout",
     "output_type": "stream",
     "text": [
      "frozenset({('34.197.19.183', 27017), ('34.196.21.20', 27017), ('34.193.159.184', 27017), ('34.197.36.27', 30000)})\n"
     ]
    }
   ],
   "source": [
    " print(client4.nodes)"
   ]
  },
  {
   "cell_type": "code",
   "execution_count": 146,
   "metadata": {
    "collapsed": false
   },
   "outputs": [
    {
     "name": "stdout",
     "output_type": "stream",
     "text": [
      "SecondaryPreferred(tag_sets=None)\n"
     ]
    }
   ],
   "source": [
    "print(client4.read_preference)"
   ]
  },
  {
   "cell_type": "code",
   "execution_count": null,
   "metadata": {
    "collapsed": false
   },
   "outputs": [],
   "source": []
  },
  {
   "cell_type": "code",
   "execution_count": 147,
   "metadata": {
    "collapsed": false
   },
   "outputs": [
    {
     "data": {
      "text/plain": [
       "['admin', 'election', 'local']"
      ]
     },
     "execution_count": 147,
     "metadata": {},
     "output_type": "execute_result"
    }
   ],
   "source": [
    "client4.database_names() "
   ]
  },
  {
   "cell_type": "code",
   "execution_count": 148,
   "metadata": {
    "collapsed": false
   },
   "outputs": [
    {
     "data": {
      "text/plain": [
       "['grdelec', 'us']"
      ]
     },
     "execution_count": 148,
     "metadata": {},
     "output_type": "execute_result"
    }
   ],
   "source": [
    "db = client4['election']   \n",
    "db.collection_names()"
   ]
  },
  {
   "cell_type": "code",
   "execution_count": 142,
   "metadata": {
    "collapsed": true
   },
   "outputs": [],
   "source": [
    "# nom des colonnes dans la collection us: vote_id, vote_timestamp, state, vote_result"
   ]
  },
  {
   "cell_type": "code",
   "execution_count": 143,
   "metadata": {
    "collapsed": false
   },
   "outputs": [
    {
     "data": {
      "text/plain": [
       "{'_id': ObjectId('587d1b4e2690f54cd18630e8'),\n",
       " 'state': 'Minnesota',\n",
       " 'vote_id': 1,\n",
       " 'vote_result': 'Clinton',\n",
       " 'vote_timestamp': '2016-11-08T20:00'}"
      ]
     },
     "execution_count": 143,
     "metadata": {},
     "output_type": "execute_result"
    }
   ],
   "source": [
    "db.us.find_one()"
   ]
  },
  {
   "cell_type": "code",
   "execution_count": 105,
   "metadata": {
    "collapsed": false
   },
   "outputs": [],
   "source": [
    "# db.us.find({\"vote_result\": \"Clinton\"}).count() # ca marche mais c'est long"
   ]
  },
  {
   "cell_type": "code",
   "execution_count": 106,
   "metadata": {
    "collapsed": false
   },
   "outputs": [
    {
     "name": "stdout",
     "output_type": "stream",
     "text": [
      "['2016-11-08T20:00', '2016-11-08T20:01', '2016-11-08T20:02', '2016-11-08T20:03', '2016-11-08T20:04', '2016-11-08T20:05', '2016-11-08T20:08', '2016-11-08T20:09', '2016-11-08T20:10', '2016-11-08T20:11', '2016-11-08T20:13', '2016-11-08T20:15', '2016-11-08T20:17', '2016-11-08T20:19', '2016-11-08T20:22', '2016-11-08T20:24', '2016-11-08T20:27', '2016-11-08T20:28', '2016-11-08T20:29', '2016-11-08T20:31', '2016-11-08T20:34', '2016-11-08T20:35', '2016-11-08T20:36', '2016-11-08T20:37', '2016-11-08T20:40', '2016-11-08T20:41', '2016-11-08T20:43', '2016-11-08T20:48', '2016-11-08T20:50', '2016-11-08T20:51', '2016-11-08T20:52', '2016-11-08T20:56', '2016-11-08T20:57', '2016-11-08T20:58', '2016-11-08T20:59']\n"
     ]
    },
    {
     "data": {
      "text/plain": [
       "0.1457509994506836"
      ]
     },
     "execution_count": 106,
     "metadata": {},
     "output_type": "execute_result"
    }
   ],
   "source": [
    "# on le sauvegardera dans une liste\n",
    "start_time = time.time() \n",
    "print(db.us.distinct('vote_timestamp'))\n",
    "(time.time() - start_time)"
   ]
  },
  {
   "cell_type": "code",
   "execution_count": 107,
   "metadata": {
    "collapsed": false
   },
   "outputs": [
    {
     "name": "stdout",
     "output_type": "stream",
     "text": [
      "['Minnesota', 'Alabama', 'Montana', 'Utah', 'Caroline_du_Sud', 'New_York', 'Nouveau_Mexique', 'Californie', 'Colorado', 'Connecticut', 'District_de_Columbia', 'Kentucky', 'Caroline_du_Nord', 'Vermont', 'Dakota_du_Sud', 'Alaska', 'Arkansas', 'Washington', 'Hawai', 'Wisconsin', 'Georgie', 'Ohio', 'Missouri', 'New_Hampshire', 'Virginie', 'Iowa', 'Delaware', 'Arizona', 'Louisiane', 'Massachusetts', 'Texas', 'Dakota_du_Nord', 'Tennessee', 'Wyoming', 'Floride', 'Illinois', 'Nevada', 'Idaho', 'Pennsylvanie', 'Virginie_Occidentale', 'Maryland', 'Mississippi', 'Rhode_Island', 'Michigan', 'Oklahoma', 'Nebraska', 'New_Jersey', 'Indiana', 'Kansas', 'Maine', 'Oregon']\n"
     ]
    },
    {
     "data": {
      "text/plain": [
       "97.77104210853577"
      ]
     },
     "execution_count": 107,
     "metadata": {},
     "output_type": "execute_result"
    }
   ],
   "source": [
    "# on le sauvegardera dans une liste\n",
    "start_time = time.time() \n",
    "print(db.us.distinct('state'))\n",
    "(time.time() - start_time)"
   ]
  },
  {
   "cell_type": "code",
   "execution_count": null,
   "metadata": {
    "collapsed": false
   },
   "outputs": [],
   "source": [
    "# si vous en avez besoin\n",
    "dico={\n",
    "'2016-11-08T20:00':  ('Minnesota'),\n",
    " '2016-11-08T20:01': ('Alabama','Montana','Utah'),\n",
    " '2016-11-08T20:02': ('New_York'),\n",
    " '2016-11-08T20:03': ('Nouveau_Mexique'),\n",
    " '2016-11-08T20:04': ('Californie','Colorado'),\n",
    " '2016-11-08T20:05': ('Connecticut'),\n",
    " '2016-11-08T20:08': ('District_de_Columbia', 'Kentucky'),\n",
    " '2016-11-08T20:09': ('Caroline_du_Nord', 'Vermont'),\n",
    " '2016-11-08T20:10': ('Dakota_du_Sud'),\n",
    " '2016-11-08T20:11': ('Alaska'),\n",
    " '2016-11-08T20:13': ('Arkansas', 'Washington'),\n",
    " '2016-11-08T20:15': ('Hawai'),\n",
    " '2016-11-08T20:17': ('Wisconsin'),\n",
    " '2016-11-08T20:19': ('Georgie'),\n",
    " '2016-11-08T20:22': ('Ohio'),\n",
    " '2016-11-08T20:24': ('Missouri','New_Hampshire', 'Virginie'),\n",
    " '2016-11-08T20:27': ('Iowa'),\n",
    " '2016-11-08T20:28': ('Delaware'),\n",
    " '2016-11-08T20:29': ('Arizona'),\n",
    " '2016-11-08T20:31': ('Louisiane','Massachusetts', 'Texas'),\n",
    " '2016-11-08T20:34': ('Dakota_du_Nord'),\n",
    " '2016-11-08T20:35': ('Tennessee'),\n",
    " '2016-11-08T20:36': ('Wyoming'),\n",
    " '2016-11-08T20:37': ('Floride', 'Illinois'),\n",
    " '2016-11-08T20:40': ('Nevada'),\n",
    " '2016-11-08T20:41': ('Idaho', 'Pennsylvanie'),\n",
    " '2016-11-08T20:43': ('Virginie_Occidentale'),\n",
    " '2016-11-08T20:48': ('Maryland','Mississippi','Rhode_Island'),\n",
    " '2016-11-08T20:50': ('Michigan'),\n",
    " '2016-11-08T20:51': ('Oklahoma'),\n",
    " '2016-11-08T20:52': ('Nebraska'),\n",
    " '2016-11-08T20:56': ('New_Jersey'),\n",
    " '2016-11-08T20:57': ('Indiana', 'Kansas'),\n",
    " '2016-11-08T20:58': ('Maine'),\n",
    " '2016-11-08T20:59': ('Oregon')}"
   ]
  },
  {
   "cell_type": "code",
   "execution_count": null,
   "metadata": {
    "collapsed": false
   },
   "outputs": [],
   "source": [
    "start_time = time.time() \n",
    "print(db.us.distinct('vote_result'))\n",
    "(time.time() - start_time)"
   ]
  },
  {
   "cell_type": "code",
   "execution_count": null,
   "metadata": {
    "collapsed": true
   },
   "outputs": [],
   "source": [
    "# listes \n",
    "liste_state = ['Minnesota', 'Alabama', 'Montana', 'Utah', 'Caroline_du_Sud', 'New_York', 'Nouveau_Mexique', 'Californie', 'Colorado', 'Connecticut', 'District_de_Columbia', 'Kentucky', 'Caroline_du_Nord', 'Vermont', 'Dakota_du_Sud', 'Alaska', 'Arkansas', 'Washington', 'Hawai', 'Wisconsin', 'Georgie', 'Ohio', 'Missouri', 'New_Hampshire', 'Virginie', 'Iowa', 'Delaware', 'Arizona', 'Louisiane', 'Massachusetts', 'Texas', 'Dakota_du_Nord', 'Tennessee', 'Wyoming', 'Floride', 'Illinois', 'Nevada', 'Idaho', 'Pennsylvanie', 'Virginie_Occidentale', 'Maryland', 'Mississippi', 'Rhode_Island', 'Michigan', 'Oklahoma', 'Nebraska', 'New_Jersey', 'Indiana', 'Kansas', 'Maine', 'Oregon']\n",
    "liste_candidate = ['Autre', 'Blanc', 'Castle', 'Clinton', 'Johnson', 'McMullin', 'Stein', 'Trump']\n",
    "liste_time = ['2016-11-08T20:00', '2016-11-08T20:01', '2016-11-08T20:02', '2016-11-08T20:03', '2016-11-08T20:04', '2016-11-08T20:05', '2016-11-08T20:08', '2016-11-08T20:09', '2016-11-08T20:10', '2016-11-08T20:11', '2016-11-08T20:13', '2016-11-08T20:15', '2016-11-08T20:17', '2016-11-08T20:19', '2016-11-08T20:22', '2016-11-08T20:24', '2016-11-08T20:27', '2016-11-08T20:28', '2016-11-08T20:29', '2016-11-08T20:31', '2016-11-08T20:34', '2016-11-08T20:35', '2016-11-08T20:36', '2016-11-08T20:37', '2016-11-08T20:40', '2016-11-08T20:41', '2016-11-08T20:43', '2016-11-08T20:48', '2016-11-08T20:50', '2016-11-08T20:51', '2016-11-08T20:52', '2016-11-08T20:56', '2016-11-08T20:57', '2016-11-08T20:58', '2016-11-08T20:59']"
   ]
  },
  {
   "cell_type": "code",
   "execution_count": null,
   "metadata": {
    "collapsed": false
   },
   "outputs": [],
   "source": [
    "start_time = time.time() \n",
    "print(db.us.find({\"$and\":[{\"vote_result\":\"Castle\"},{\"state\":\"Minnesota\"}]}).count())\n",
    "print(\"--- %s seconds ---\" % (time.time() - start_time))"
   ]
  },
  {
   "cell_type": "code",
   "execution_count": null,
   "metadata": {
    "collapsed": false
   },
   "outputs": [],
   "source": [
    "start_time = time.time() \n",
    "print(db.us.find({\"$and\":[{\"vote_result\":\"Castle\"},{\"state\":\"Minnesota\"}]}).count())\n",
    "print(\"--- %s seconds ---\" % (time.time() - start_time))"
   ]
  },
  {
   "cell_type": "code",
   "execution_count": null,
   "metadata": {
    "collapsed": false
   },
   "outputs": [],
   "source": [
    "print(db.us.find({ \"vote_timestamp\":\"2016-11-08T20:00\"}).count())"
   ]
  },
  {
   "cell_type": "code",
   "execution_count": null,
   "metadata": {
    "collapsed": false
   },
   "outputs": [],
   "source": [
    "start_time = time.time() \n",
    "print(db.us.find({\"$and\":[{ \"vote_timestamp\":\"2016-11-08T20:00\"},{\"vote_result\":\"Clinton\"},{\"state\":\"Minnesota\"}]}).count())\n",
    "print(\"--- %s seconds ---\" % (time.time() - start_time))\n",
    "      "
   ]
  },
  {
   "cell_type": "code",
   "execution_count": null,
   "metadata": {
    "collapsed": false
   },
   "outputs": [],
   "source": [
    "'''\n",
    "for key, value in df[:5].iterrows():\n",
    "    print(value[\"vote_timestamp\"],value[\"state\"],value[\"vote_result\"])\n",
    "    print(db.us.find({\"$and\":[{ \"vote_timestamp\":value['vote_timestamp']},{\"vote_result\":value['vote_result']},{\"state\":value['state']}]}).count())\n",
    "'''"
   ]
  },
  {
   "cell_type": "code",
   "execution_count": null,
   "metadata": {
    "collapsed": false
   },
   "outputs": [],
   "source": [
    "# un peu trop long\n",
    "# start_time = time.time() \n",
    "# for state in liste_state: \n",
    "#     print(\"----\",state,\"---\")\n",
    "#     for candidate in liste_candidate: \n",
    "#         print(candidate, db.us.find({\"$and\":[{\"vote_result\":candidate},{\"state\":state}]}).count())\n",
    "# print(\"--- %s seconds ---\" % (time.time() - start_time))"
   ]
  },
  {
   "cell_type": "code",
   "execution_count": null,
   "metadata": {
    "collapsed": false
   },
   "outputs": [],
   "source": [
    "start_time = time.time() \n",
    "print(db.us.find({\"$and\":[{ \"vote_timestamp\":\"2016-11-08T20:00\"},{\"vote_result\":\"Clinton\"},{\"state\":\"Minnesota\"}]}).count())\n",
    "print(\"--- %s seconds ---\" % (time.time() - start_time))\n",
    "     "
   ]
  },
  {
   "cell_type": "code",
   "execution_count": null,
   "metadata": {
    "collapsed": false
   },
   "outputs": [],
   "source": [
    "cursor=db.us.aggregate([\n",
    "                     { \"$match\": { \"vote_timestamp\":\"2016-11-08T20:04\",\"vote_result\":\"Stein\" } },\n",
    "                     { \"$group\": { \"_id\": \"$state\", \"total\":  {\"$sum\":1 }}  }, \n",
    "                   ])"
   ]
  },
  {
   "cell_type": "code",
   "execution_count": null,
   "metadata": {
    "collapsed": false
   },
   "outputs": [],
   "source": [
    "for el in cursor['result']:\n",
    "    print(el)\n",
    "    print(type(el))"
   ]
  },
  {
   "cell_type": "code",
   "execution_count": null,
   "metadata": {
    "collapsed": false
   },
   "outputs": [],
   "source": [
    "print(query_to_dataframe(cursor))"
   ]
  },
  {
   "cell_type": "code",
   "execution_count": null,
   "metadata": {
    "collapsed": false
   },
   "outputs": [],
   "source": [
    "print(list(cursor))"
   ]
  },
  {
   "cell_type": "code",
   "execution_count": null,
   "metadata": {
    "collapsed": false
   },
   "outputs": [],
   "source": [
    "#rq: il faut sauvegarder la valeur d'un curseur ds une variable\n",
    "start_time = time.time() \n",
    "for key in liste_time:  \n",
    "    print(\"------\",key,\"-----\")\n",
    "    for i in liste_candidate:\n",
    "        \n",
    "        cursor=db.us.aggregate([\n",
    "                     { \"$match\": { \"vote_timestamp\":key,\"vote_result\":i } },\n",
    "                     { \"$group\": { \"_id\": \"$state\", \"total\":  {\"$sum\":1 }}  }, \n",
    "                   ])\n",
    "        info=(list(cursor))\n",
    "        print(i,\"---\",info)\n",
    "\n",
    "print(\"--- %s seconds ---\" % (time.time() - start_time))"
   ]
  },
  {
   "cell_type": "code",
   "execution_count": null,
   "metadata": {
    "collapsed": true
   },
   "outputs": [],
   "source": []
  },
  {
   "cell_type": "code",
   "execution_count": null,
   "metadata": {
    "collapsed": true
   },
   "outputs": [],
   "source": []
  },
  {
   "cell_type": "markdown",
   "metadata": {},
   "source": [
    "## Functions"
   ]
  },
  {
   "cell_type": "code",
   "execution_count": null,
   "metadata": {
    "collapsed": true
   },
   "outputs": [],
   "source": []
  },
  {
   "cell_type": "code",
   "execution_count": 114,
   "metadata": {
    "collapsed": false
   },
   "outputs": [],
   "source": [
    "# Transformation du resultat d'une requete en Dataframe\n",
    "# >>> KO fonctionne qu'avec PyMongo:version 2.8.0\n",
    "\n",
    "def query_to_dataframe(cursor):\n",
    "    df = pd.DataFrame()\n",
    "    if len(list(cursor)) != 0:\n",
    "        for i, el in enumerate(list(cursor)):\n",
    "            df = df.append(pd.DataFrame(el, index=[i]), ignore_index=True)\n",
    "    return df"
   ]
  },
  {
   "cell_type": "code",
   "execution_count": 115,
   "metadata": {
    "collapsed": true
   },
   "outputs": [],
   "source": [
    "# Adaptation version Nico\n",
    "\n",
    "def query_to_dataframe_2(cursor):\n",
    "    df = pd.DataFrame()\n",
    "    if len(list(cursor)) != 0:\n",
    "        for i, el in enumerate(cursor):\n",
    "            df = df.append(pd.DataFrame(el, index=[i]), ignore_index=True)\n",
    "    return df "
   ]
  },
  {
   "cell_type": "code",
   "execution_count": null,
   "metadata": {
    "collapsed": false
   },
   "outputs": [],
   "source": []
  },
  {
   "cell_type": "code",
   "execution_count": 175,
   "metadata": {
    "collapsed": false
   },
   "outputs": [
    {
     "data": {
      "text/plain": [
       "[]"
      ]
     },
     "execution_count": 175,
     "metadata": {},
     "output_type": "execute_result"
    }
   ],
   "source": [
    "key_time = '2016-11-08T20:06'\n",
    "\n",
    "cursor = db.us.aggregate([\n",
    "             { \"$match\": { \"vote_timestamp\":key_time } },\n",
    "             { \"$group\": { \"_id\": { \"state\": \"$state\", \"vote_result\": \"$vote_result\" }\n",
    "                          , \"state\": { \"$first\": '$state' }\n",
    "                          , \"vote_result\": { \"$first\": '$vote_result' }\n",
    "                          , \"total\":  {\"$sum\":1 }}  }, \n",
    "           ])\n",
    "list(cursor)"
   ]
  },
  {
   "cell_type": "code",
   "execution_count": 156,
   "metadata": {
    "collapsed": false
   },
   "outputs": [],
   "source": [
    "# Requete Laura\n",
    "# OK pour version 3.3.0\n",
    "\n",
    "def query_v21(key_time):\n",
    "    \n",
    "    cursor=db.us.aggregate([\n",
    "                { \"$match\": { \"vote_timestamp\":key_time } },\n",
    "                { \"$group\": { \"_id\": { \"state\": \"$state\", \"vote_result\":\"$vote_result\"}, \"total\":  {\"$sum\":1 }}  },\n",
    "              ])\n",
    "    info=(list(cursor))\n",
    "    ligne=[]\n",
    "    df=pd.DataFrame()\n",
    "    for i in range(len(info)):\n",
    "        ligne=[info[i]['total'] ,info[i]['_id']['state'],info[i]['_id']['vote_result']]\n",
    "        df=pd.concat([df,pd.DataFrame(ligne).T])\n",
    "    df.columns=['nb_vote','state','result']\n",
    "\n",
    "    return df"
   ]
  },
  {
   "cell_type": "code",
   "execution_count": 178,
   "metadata": {
    "collapsed": false
   },
   "outputs": [],
   "source": [
    "# Remake with Try Except\n",
    "\n",
    "def query_v2(key_time):\n",
    "      \n",
    "    try:\n",
    "        cursor=db.us.aggregate([\n",
    "                { \"$match\": { \"vote_timestamp\":key_time } },\n",
    "                { \"$group\": { \"_id\": { \"state\": \"$state\", \"vote_result\":\"$vote_result\"}, \"total\":  {\"$sum\":1 }}  },\n",
    "              ])\n",
    "        pass\n",
    "    except pymongo.errors.AutoReconnect:\n",
    "        time.sleep(pow(2, i))\n",
    "    \n",
    "    info=(list(cursor))\n",
    "    ligne=[]\n",
    "    df=pd.DataFrame()\n",
    "    for i in range(len(info)):\n",
    "        ligne=[info[i]['total'] ,info[i]['_id']['state'],info[i]['_id']['vote_result']]\n",
    "        df=pd.concat([df,pd.DataFrame(ligne).T])\n",
    "    if not df.empty:\n",
    "        df.columns=['nb_vote','state','result']\n",
    "\n",
    "    return df"
   ]
  },
  {
   "cell_type": "code",
   "execution_count": 179,
   "metadata": {
    "collapsed": false
   },
   "outputs": [
    {
     "data": {
      "text/plain": [
       "[]"
      ]
     },
     "execution_count": 179,
     "metadata": {},
     "output_type": "execute_result"
    }
   ],
   "source": [
    "key_time = '2016-11-08T20:06'\n",
    "try:\n",
    "    cursor=db.us.aggregate([\n",
    "            { \"$match\": { \"vote_timestamp\":key_time } },\n",
    "            { \"$group\": { \"_id\": { \"state\": \"$state\", \"vote_result\":\"$vote_result\"}, \"total\":  {\"$sum\":1 }}  },\n",
    "          ])\n",
    "    #break\n",
    "except pymongo.errors.AutoReconnect:\n",
    "    time.sleep(pow(2, i))\n",
    "\n",
    "list(cursor)               "
   ]
  },
  {
   "cell_type": "code",
   "execution_count": 180,
   "metadata": {
    "collapsed": false
   },
   "outputs": [
    {
     "data": {
      "text/html": [
       "<div>\n",
       "<table border=\"1\" class=\"dataframe\">\n",
       "  <thead>\n",
       "    <tr style=\"text-align: right;\">\n",
       "      <th></th>\n",
       "    </tr>\n",
       "  </thead>\n",
       "  <tbody>\n",
       "  </tbody>\n",
       "</table>\n",
       "</div>"
      ],
      "text/plain": [
       "Empty DataFrame\n",
       "Columns: []\n",
       "Index: []"
      ]
     },
     "execution_count": 180,
     "metadata": {},
     "output_type": "execute_result"
    }
   ],
   "source": [
    "key_time = '2016-11-08T20:06'\n",
    "ddtest = query_v2(key_time)\n",
    "ddtest"
   ]
  },
  {
   "cell_type": "code",
   "execution_count": 119,
   "metadata": {
    "collapsed": true
   },
   "outputs": [],
   "source": [
    "# Requete nombre de votes par Candidat par Etat \n",
    "\n",
    "def query_by_time(key_time):  \n",
    "    cursor = db.us.aggregate([\n",
    "                 { \"$match\": { \"vote_timestamp\":key_time } },\n",
    "                 { \"$group\": { \"_id\": { \"state\": \"$state\", \"vote_result\": \"$vote_result\" }\n",
    "                              , \"state\": { \"$first\": '$state' }\n",
    "                              , \"vote_result\": { \"$first\": '$vote_result' }\n",
    "                              , \"total\":  {\"$sum\":1 }}  }, \n",
    "               ])\n",
    "    return cursor"
   ]
  },
  {
   "cell_type": "code",
   "execution_count": 120,
   "metadata": {
    "collapsed": true
   },
   "outputs": [],
   "source": [
    "# Requete du nombre de Grands Electeurs par State\n",
    "\n",
    "def query_grands_elec():\n",
    "    df_grd_elec = pd.DataFrame()\n",
    "    cur = db.grdelec.find()\n",
    "    xcur = list(cur)\n",
    "    if len(xcur):\n",
    "        for j, elt in enumerate(xcur):\n",
    "            df_grd_elec = df_grd_elec.append(pd.DataFrame(elt, index=[j]), ignore_index=True)\n",
    "    return df_grd_elec"
   ]
  },
  {
   "cell_type": "code",
   "execution_count": 121,
   "metadata": {
    "collapsed": false
   },
   "outputs": [],
   "source": [
    "# Resultat votes par State\n",
    "\n",
    "def states_result(key_time):\n",
    "    \n",
    "    #cursor = query_by_time(key_time)\n",
    "    #df_state = query_to_dataframe(cursor)\n",
    "    \n",
    "    df_state = query_v2(key_time)\n",
    "    \n",
    "    df_resultat = pd.DataFrame()\n",
    "    df_prop_state = pd.DataFrame()\n",
    "    \n",
    "    if not df_state.empty:\n",
    "        df_state_group = df_state.groupby('state')\n",
    "        for key, elmt in df_state_group:\n",
    "            \n",
    "            elmt['pct'] = elmt['nb_vote'].apply(lambda x: x/elmt.nb_vote.sum())\n",
    "            \n",
    "            df_resultat = df_resultat.append(elmt[elmt.pct == elmt.pct.max()][['state', 'result', 'nb_vote']], ignore_index=True)\n",
    "\n",
    "            df_prop_state = df_prop_state.append(elmt[elmt.state == 'Maine'], ignore_index=True)\n",
    "            df_prop_state = df_prop_state.append(elmt[elmt.state == 'Nebraska'], ignore_index=True)\n",
    "    \n",
    "    return df_resultat, df_prop_state"
   ]
  },
  {
   "cell_type": "code",
   "execution_count": 122,
   "metadata": {
    "collapsed": true
   },
   "outputs": [],
   "source": [
    "# Resultat de l'élection\n",
    "\n",
    "def score_election(df_r, df_grd_elec):\n",
    "    result = pd.merge(df_r, df_grd_elec, on='state')\n",
    "    return result[['vote_result', 'grands_electeurs']].groupby('vote_result').sum()"
   ]
  },
  {
   "cell_type": "code",
   "execution_count": 123,
   "metadata": {
    "collapsed": true
   },
   "outputs": [],
   "source": [
    "# Resultat de l'élection par State\n",
    "\n",
    "def score_state(df_r, df_grd_elec):\n",
    "    return pd.merge(df_r, df_grd_elec, on='state')"
   ]
  },
  {
   "cell_type": "code",
   "execution_count": 124,
   "metadata": {
    "collapsed": false
   },
   "outputs": [],
   "source": [
    "# Maine et le Nebraska\n",
    "\n",
    "def score_election_prop(df_r, df_prop_state, df_grd_elec):\n",
    "    result = pd.merge(df_r, df_grd_elec, on='state')\n",
    "    result[['vote_result', 'grands_electeurs']].groupby('vote_result').sum()"
   ]
  },
  {
   "cell_type": "code",
   "execution_count": null,
   "metadata": {
    "collapsed": true
   },
   "outputs": [],
   "source": []
  },
  {
   "cell_type": "code",
   "execution_count": null,
   "metadata": {
    "collapsed": false
   },
   "outputs": [],
   "source": []
  },
  {
   "cell_type": "markdown",
   "metadata": {},
   "source": [
    "## Fonction de Test"
   ]
  },
  {
   "cell_type": "code",
   "execution_count": null,
   "metadata": {
    "collapsed": false,
    "scrolled": false
   },
   "outputs": [
    {
     "name": "stderr",
     "output_type": "stream",
     "text": [
      "/Users/Wes/anaconda3/lib/python3.5/site-packages/ipykernel/__main__.py:17: SettingWithCopyWarning: \n",
      "A value is trying to be set on a copy of a slice from a DataFrame.\n",
      "Try using .loc[row_indexer,col_indexer] = value instead\n",
      "\n",
      "See the caveats in the documentation: http://pandas.pydata.org/pandas-docs/stable/indexing.html#indexing-view-versus-copy\n"
     ]
    },
    {
     "name": "stdout",
     "output_type": "stream",
     "text": [
      "\n",
      "2016-11-08T20:00 --- R: --- 4.838528156280518 seconds ---\n",
      "\n",
      "\n",
      "2016-11-08T20:01 --- R: --- 5.591330051422119 seconds ---\n",
      "\n",
      "\n",
      "2016-11-08T20:02 --- R: --- 15.928617000579834 seconds ---\n",
      "\n",
      "\n",
      "2016-11-08T20:03 --- R: --- 1.536703109741211 seconds ---\n",
      "\n",
      "\n",
      "2016-11-08T20:04 --- R: --- 27.120187044143677 seconds ---\n",
      "\n",
      "\n",
      "2016-11-08T20:05 --- R: --- 2.5747570991516113 seconds ---\n",
      "\n",
      "\n",
      "2016-11-08T20:06 --- R: --- 0.24689602851867676 seconds ---\n",
      "\n",
      "\n",
      "2016-11-08T20:07 --- R: --- 0.08446192741394043 seconds ---\n",
      "\n",
      "\n",
      "2016-11-08T20:08 --- R: --- 3.411771059036255 seconds ---\n",
      "\n",
      "\n",
      "2016-11-08T20:09 --- R: --- 8.002862930297852 seconds ---\n",
      "\n",
      "\n",
      "2016-11-08T20:10 --- R: --- 0.8456099033355713 seconds ---\n",
      "\n",
      "\n",
      "2016-11-08T20:11 --- R: --- 0.5784070491790771 seconds ---\n",
      "\n",
      "\n",
      "2016-11-08T20:12 --- R: --- 0.08491182327270508 seconds ---\n",
      "\n",
      "\n",
      "2016-11-08T20:13 --- R: --- 6.344067096710205 seconds ---\n",
      "\n",
      "\n",
      "2016-11-08T20:14 --- R: --- 0.2503089904785156 seconds ---\n",
      "\n",
      "\n",
      "2016-11-08T20:15 --- R: --- 0.9346868991851807 seconds ---\n",
      "\n",
      "\n",
      "2016-11-08T20:16 --- R: --- 0.09730815887451172 seconds ---\n",
      "\n",
      "\n",
      "2016-11-08T20:17 --- R: --- 4.238253831863403 seconds ---\n",
      "\n",
      "\n",
      "2016-11-08T20:18 --- R: --- 0.24512100219726562 seconds ---\n",
      "\n",
      "\n",
      "2016-11-08T20:19 --- R: --- 5.895055055618286 seconds ---\n",
      "\n",
      "\n",
      "2016-11-08T20:20 --- R: --- 0.24678707122802734 seconds ---\n",
      "\n",
      "\n",
      "2016-11-08T20:21 --- R: --- 0.08583402633666992 seconds ---\n",
      "\n",
      "\n",
      "2016-11-08T20:22 --- R: --- 7.863288164138794 seconds ---\n",
      "\n",
      "\n",
      "2016-11-08T20:23 --- R: --- 0.24697184562683105 seconds ---\n",
      "\n",
      "\n",
      "2016-11-08T20:24 --- R: --- 10.3385009765625 seconds ---\n",
      "\n",
      "\n",
      "2016-11-08T20:25 --- R: --- 0.25757598876953125 seconds ---\n",
      "\n",
      "\n",
      "2016-11-08T20:26 --- R: --- 0.08443689346313477 seconds ---\n",
      "\n",
      "\n",
      "2016-11-08T20:27 --- R: --- 2.2589290142059326 seconds ---\n",
      "\n",
      "\n",
      "2016-11-08T20:28 --- R: --- 0.9177579879760742 seconds ---\n",
      "\n",
      "\n",
      "2016-11-08T20:29 --- R: --- 3.6517858505249023 seconds ---\n",
      "\n",
      "\n",
      "2016-11-08T20:30 --- R: --- 0.25487208366394043 seconds ---\n",
      "\n",
      "\n",
      "2016-11-08T20:31 --- R: --- 20.618942975997925 seconds ---\n",
      "\n",
      "\n",
      "2016-11-08T20:32 --- R: --- 0.24891901016235352 seconds ---\n",
      "\n",
      "\n",
      "2016-11-08T20:33 --- R: --- 0.08526396751403809 seconds ---\n",
      "\n",
      "\n",
      "2016-11-08T20:34 --- R: --- 0.6761598587036133 seconds ---\n",
      "\n",
      "\n",
      "2016-11-08T20:35 --- R: --- 3.402076005935669 seconds ---\n",
      "\n",
      "\n",
      "2016-11-08T20:36 --- R: --- 0.6275889873504639 seconds ---\n",
      "\n",
      "\n",
      "2016-11-08T20:37 --- R: --- 19.732095956802368 seconds ---\n",
      "\n",
      "\n",
      "2016-11-08T20:38 --- R: --- 0.24825215339660645 seconds ---\n",
      "\n",
      "\n",
      "2016-11-08T20:39 --- R: --- 0.08621001243591309 seconds ---\n",
      "\n",
      "\n",
      "2016-11-08T20:40 --- R: --- 1.696829080581665 seconds ---\n",
      "\n",
      "\n",
      "2016-11-08T20:41 --- R: --- 9.206597089767456 seconds ---\n",
      "\n",
      "\n",
      "2016-11-08T20:42 --- R: --- 0.24674010276794434 seconds ---\n",
      "\n",
      "\n",
      "2016-11-08T20:43 --- R: --- 1.158174991607666 seconds ---\n",
      "\n",
      "\n",
      "2016-11-08T20:44 --- R: --- 0.2467801570892334 seconds ---\n",
      "\n",
      "\n",
      "2016-11-08T20:45 --- R: --- 0.08869504928588867 seconds ---\n",
      "\n",
      "\n",
      "2016-11-08T20:46 --- R: --- 0.08267998695373535 seconds ---\n",
      "\n",
      "\n",
      "2016-11-08T20:47 --- R: --- 0.08488917350769043 seconds ---\n",
      "\n",
      "\n",
      "2016-11-08T20:48 --- R: --- 6.038800001144409 seconds ---\n",
      "\n"
     ]
    }
   ],
   "source": [
    "start_time = time.time()\n",
    "key_time = '2016-11-08T20:00'\n",
    "df_r = pd.DataFrame()\n",
    "df_prop_state = pd.DataFrame()\n",
    "\n",
    "# Boucle de simulation de l'incrémentation du temps\n",
    "for el in range(60):\n",
    "    \n",
    "        # CRéation du timestamp format string mongodb\n",
    "        key_time = '2016-11-08T20:' + ('00' + str(el))[-2:]\n",
    "        #print(key_time)\n",
    "        \n",
    "        start_time_r = time.time()\n",
    "        # Recupération des votes + stockage dans un Dataframe (df_r)\n",
    "        df_r = df_r.append(states_result(key_time)[0], ignore_index=True)\n",
    "        print()\n",
    "        print( key_time + \" --- R: --- %s seconds ---\" % (time.time() - start_time_r)) \n",
    "        print()\n",
    "        \n",
    "        # Recupération des votes pour le calcul des états au scrutin proportionnel + stockage dans un Dataframe\n",
    "        df_prop_state = df_prop_state.append(states_result(key_time)[1], ignore_index=True)\n",
    "        #print(df_r)\n",
    "print()\n",
    "print(df_prop_state)\n",
    "print(\"Total: --- %s seconds ---\" % (time.time() - start_time)) "
   ]
  },
  {
   "cell_type": "code",
   "execution_count": null,
   "metadata": {
    "collapsed": true
   },
   "outputs": [],
   "source": []
  },
  {
   "cell_type": "code",
   "execution_count": 71,
   "metadata": {
    "collapsed": false
   },
   "outputs": [
    {
     "name": "stdout",
     "output_type": "stream",
     "text": [
      "                        _id code  grands_electeurs            state\n",
      "0  58823c757c12b81956bc3d8f   AZ                11          Arizona\n",
      "1  58823c757c12b81956bc3d93   SC                 9  Caroline_du_Sud\n",
      "2  58823c757c12b81956bc3da1   KS                 6           Kansas\n",
      "3  58823c757c12b81956bc3da2   KY                 8         Kentucky\n",
      "4  58823c757c12b81956bc3db0   NY                29         New_York\n",
      "538\n"
     ]
    }
   ],
   "source": [
    "df_grd_elec = query_grands_elec()\n",
    "\n",
    "print(df_grd_elec.head())\n",
    "print(df_grd_elec['grands_electeurs'].sum())"
   ]
  },
  {
   "cell_type": "code",
   "execution_count": 72,
   "metadata": {
    "collapsed": false
   },
   "outputs": [
    {
     "name": "stdout",
     "output_type": "stream",
     "text": [
      "             grands_electeurs\n",
      "vote_result                  \n",
      "Clinton                   121\n",
      "Trump                      50\n"
     ]
    }
   ],
   "source": [
    "print(score_election(df_r, df_grd_elec))"
   ]
  },
  {
   "cell_type": "code",
   "execution_count": null,
   "metadata": {
    "collapsed": true
   },
   "outputs": [],
   "source": []
  },
  {
   "cell_type": "markdown",
   "metadata": {},
   "source": [
    "En cours...."
   ]
  },
  {
   "cell_type": "code",
   "execution_count": 73,
   "metadata": {
    "collapsed": false
   },
   "outputs": [
    {
     "ename": "KeyError",
     "evalue": "\"['state' 'vote_result' 'code' 'grands_electeurs'] not in index\"",
     "output_type": "error",
     "traceback": [
      "\u001b[0;31m---------------------------------------------------------------------------\u001b[0m",
      "\u001b[0;31mKeyError\u001b[0m                                  Traceback (most recent call last)",
      "\u001b[0;32m<ipython-input-73-bc20095de0e1>\u001b[0m in \u001b[0;36m<module>\u001b[0;34m()\u001b[0m\n\u001b[1;32m     11\u001b[0m \u001b[0;34m\u001b[0m\u001b[0m\n\u001b[1;32m     12\u001b[0m \u001b[0;34m\u001b[0m\u001b[0m\n\u001b[0;32m---> 13\u001b[0;31m \u001b[0mprint\u001b[0m\u001b[0;34m(\u001b[0m\u001b[0mdf_grd_elec_fin\u001b[0m\u001b[0;34m[\u001b[0m\u001b[0;34m[\u001b[0m\u001b[0;34m'state'\u001b[0m\u001b[0;34m,\u001b[0m \u001b[0;34m'vote_result'\u001b[0m\u001b[0;34m,\u001b[0m \u001b[0;34m'code'\u001b[0m\u001b[0;34m,\u001b[0m \u001b[0;34m'grands_electeurs'\u001b[0m\u001b[0;34m]\u001b[0m\u001b[0;34m]\u001b[0m\u001b[0;34m)\u001b[0m\u001b[0;34m\u001b[0m\u001b[0m\n\u001b[0m\u001b[1;32m     14\u001b[0m \u001b[0;34m\u001b[0m\u001b[0m\n\u001b[1;32m     15\u001b[0m \u001b[0mtest\u001b[0m \u001b[0;34m=\u001b[0m \u001b[0mdf_grd_elec_fin\u001b[0m\u001b[0;34m\u001b[0m\u001b[0m\n",
      "\u001b[0;32m/Users/Wes/anaconda3/lib/python3.5/site-packages/pandas/core/frame.py\u001b[0m in \u001b[0;36m__getitem__\u001b[0;34m(self, key)\u001b[0m\n\u001b[1;32m   2051\u001b[0m         \u001b[0;32mif\u001b[0m \u001b[0misinstance\u001b[0m\u001b[0;34m(\u001b[0m\u001b[0mkey\u001b[0m\u001b[0;34m,\u001b[0m \u001b[0;34m(\u001b[0m\u001b[0mSeries\u001b[0m\u001b[0;34m,\u001b[0m \u001b[0mnp\u001b[0m\u001b[0;34m.\u001b[0m\u001b[0mndarray\u001b[0m\u001b[0;34m,\u001b[0m \u001b[0mIndex\u001b[0m\u001b[0;34m,\u001b[0m \u001b[0mlist\u001b[0m\u001b[0;34m)\u001b[0m\u001b[0;34m)\u001b[0m\u001b[0;34m:\u001b[0m\u001b[0;34m\u001b[0m\u001b[0m\n\u001b[1;32m   2052\u001b[0m             \u001b[0;31m# either boolean or fancy integer index\u001b[0m\u001b[0;34m\u001b[0m\u001b[0;34m\u001b[0m\u001b[0m\n\u001b[0;32m-> 2053\u001b[0;31m             \u001b[0;32mreturn\u001b[0m \u001b[0mself\u001b[0m\u001b[0;34m.\u001b[0m\u001b[0m_getitem_array\u001b[0m\u001b[0;34m(\u001b[0m\u001b[0mkey\u001b[0m\u001b[0;34m)\u001b[0m\u001b[0;34m\u001b[0m\u001b[0m\n\u001b[0m\u001b[1;32m   2054\u001b[0m         \u001b[0;32melif\u001b[0m \u001b[0misinstance\u001b[0m\u001b[0;34m(\u001b[0m\u001b[0mkey\u001b[0m\u001b[0;34m,\u001b[0m \u001b[0mDataFrame\u001b[0m\u001b[0;34m)\u001b[0m\u001b[0;34m:\u001b[0m\u001b[0;34m\u001b[0m\u001b[0m\n\u001b[1;32m   2055\u001b[0m             \u001b[0;32mreturn\u001b[0m \u001b[0mself\u001b[0m\u001b[0;34m.\u001b[0m\u001b[0m_getitem_frame\u001b[0m\u001b[0;34m(\u001b[0m\u001b[0mkey\u001b[0m\u001b[0;34m)\u001b[0m\u001b[0;34m\u001b[0m\u001b[0m\n",
      "\u001b[0;32m/Users/Wes/anaconda3/lib/python3.5/site-packages/pandas/core/frame.py\u001b[0m in \u001b[0;36m_getitem_array\u001b[0;34m(self, key)\u001b[0m\n\u001b[1;32m   2095\u001b[0m             \u001b[0;32mreturn\u001b[0m \u001b[0mself\u001b[0m\u001b[0;34m.\u001b[0m\u001b[0mtake\u001b[0m\u001b[0;34m(\u001b[0m\u001b[0mindexer\u001b[0m\u001b[0;34m,\u001b[0m \u001b[0maxis\u001b[0m\u001b[0;34m=\u001b[0m\u001b[0;36m0\u001b[0m\u001b[0;34m,\u001b[0m \u001b[0mconvert\u001b[0m\u001b[0;34m=\u001b[0m\u001b[0;32mFalse\u001b[0m\u001b[0;34m)\u001b[0m\u001b[0;34m\u001b[0m\u001b[0m\n\u001b[1;32m   2096\u001b[0m         \u001b[0;32melse\u001b[0m\u001b[0;34m:\u001b[0m\u001b[0;34m\u001b[0m\u001b[0m\n\u001b[0;32m-> 2097\u001b[0;31m             \u001b[0mindexer\u001b[0m \u001b[0;34m=\u001b[0m \u001b[0mself\u001b[0m\u001b[0;34m.\u001b[0m\u001b[0mix\u001b[0m\u001b[0;34m.\u001b[0m\u001b[0m_convert_to_indexer\u001b[0m\u001b[0;34m(\u001b[0m\u001b[0mkey\u001b[0m\u001b[0;34m,\u001b[0m \u001b[0maxis\u001b[0m\u001b[0;34m=\u001b[0m\u001b[0;36m1\u001b[0m\u001b[0;34m)\u001b[0m\u001b[0;34m\u001b[0m\u001b[0m\n\u001b[0m\u001b[1;32m   2098\u001b[0m             \u001b[0;32mreturn\u001b[0m \u001b[0mself\u001b[0m\u001b[0;34m.\u001b[0m\u001b[0mtake\u001b[0m\u001b[0;34m(\u001b[0m\u001b[0mindexer\u001b[0m\u001b[0;34m,\u001b[0m \u001b[0maxis\u001b[0m\u001b[0;34m=\u001b[0m\u001b[0;36m1\u001b[0m\u001b[0;34m,\u001b[0m \u001b[0mconvert\u001b[0m\u001b[0;34m=\u001b[0m\u001b[0;32mTrue\u001b[0m\u001b[0;34m)\u001b[0m\u001b[0;34m\u001b[0m\u001b[0m\n\u001b[1;32m   2099\u001b[0m \u001b[0;34m\u001b[0m\u001b[0m\n",
      "\u001b[0;32m/Users/Wes/anaconda3/lib/python3.5/site-packages/pandas/core/indexing.py\u001b[0m in \u001b[0;36m_convert_to_indexer\u001b[0;34m(self, obj, axis, is_setter)\u001b[0m\n\u001b[1;32m   1228\u001b[0m                 \u001b[0mmask\u001b[0m \u001b[0;34m=\u001b[0m \u001b[0mcheck\u001b[0m \u001b[0;34m==\u001b[0m \u001b[0;34m-\u001b[0m\u001b[0;36m1\u001b[0m\u001b[0;34m\u001b[0m\u001b[0m\n\u001b[1;32m   1229\u001b[0m                 \u001b[0;32mif\u001b[0m \u001b[0mmask\u001b[0m\u001b[0;34m.\u001b[0m\u001b[0many\u001b[0m\u001b[0;34m(\u001b[0m\u001b[0;34m)\u001b[0m\u001b[0;34m:\u001b[0m\u001b[0;34m\u001b[0m\u001b[0m\n\u001b[0;32m-> 1230\u001b[0;31m                     \u001b[0;32mraise\u001b[0m \u001b[0mKeyError\u001b[0m\u001b[0;34m(\u001b[0m\u001b[0;34m'%s not in index'\u001b[0m \u001b[0;34m%\u001b[0m \u001b[0mobjarr\u001b[0m\u001b[0;34m[\u001b[0m\u001b[0mmask\u001b[0m\u001b[0;34m]\u001b[0m\u001b[0;34m)\u001b[0m\u001b[0;34m\u001b[0m\u001b[0m\n\u001b[0m\u001b[1;32m   1231\u001b[0m \u001b[0;34m\u001b[0m\u001b[0m\n\u001b[1;32m   1232\u001b[0m                 \u001b[0;32mreturn\u001b[0m \u001b[0m_values_from_object\u001b[0m\u001b[0;34m(\u001b[0m\u001b[0mindexer\u001b[0m\u001b[0;34m)\u001b[0m\u001b[0;34m\u001b[0m\u001b[0m\n",
      "\u001b[0;31mKeyError\u001b[0m: \"['state' 'vote_result' 'code' 'grands_electeurs'] not in index\""
     ]
    }
   ],
   "source": [
    "# Calcul grands electeurs %proportionnel Maine et le Nebraska\n",
    "\n",
    "result_prop = pd.merge(df_prop_state, df_grd_elec, on='state')\n",
    "df_inter = result_prop.groupby('state')\n",
    "df_grd_elec_fin = pd.DataFrame()\n",
    "\n",
    "for key, elmt in df_inter:\n",
    "    df_agg = elmt.sort_values('pct', ascending=False)[:2]\n",
    "    df_agg['grands_electeurs'] = (df_agg['pct'] * df_agg['grands_electeurs']).apply(lambda x: math.ceil(x))\n",
    "    df_grd_elec_fin = df_grd_elec_fin.append(df_agg, ignore_index=True)\n",
    "\n",
    "\n",
    "print(df_grd_elec_fin[['state', 'vote_result', 'code', 'grands_electeurs']])\n",
    "\n",
    "test = df_grd_elec_fin\n",
    "\n",
    "#result[(result.state == 'Nebraska') | (result.state == 'Maine')]\n",
    "\n",
    "test = test.drop(test[(test.state == 'Nebraska') | (test.state == 'Maine')].index.tolist())\n",
    "print(test[(test.state == 'Nebraska') | (test.state == 'Maine')])\n",
    "fin = test.append(df_grd_elec_fin[['state', 'vote_result', 'code', 'grands_electeurs']], ignore_index=True)\n",
    "print()\n",
    "print(fin[(fin.state == 'Nebraska') | (fin.state == 'Maine')])\n",
    "print()\n",
    "print(fin[['vote_result', 'grands_electeurs']].groupby('vote_result').sum())"
   ]
  },
  {
   "cell_type": "code",
   "execution_count": null,
   "metadata": {
    "collapsed": true
   },
   "outputs": [],
   "source": []
  },
  {
   "cell_type": "code",
   "execution_count": null,
   "metadata": {
    "collapsed": true
   },
   "outputs": [],
   "source": []
  },
  {
   "cell_type": "code",
   "execution_count": null,
   "metadata": {
    "collapsed": true
   },
   "outputs": [],
   "source": []
  }
 ],
 "metadata": {
  "anaconda-cloud": {},
  "kernelspec": {
   "display_name": "Python [default]",
   "language": "python",
   "name": "python3"
  },
  "language_info": {
   "codemirror_mode": {
    "name": "ipython",
    "version": 3
   },
   "file_extension": ".py",
   "mimetype": "text/x-python",
   "name": "python",
   "nbconvert_exporter": "python",
   "pygments_lexer": "ipython3",
   "version": "3.5.2"
  }
 },
 "nbformat": 4,
 "nbformat_minor": 1
}
